{
 "cells": [
  {
   "cell_type": "markdown",
   "id": "244cd86b-5c73-4fd9-85d9-0410f08dcdad",
   "metadata": {},
   "source": [
    "# Summary Project #2"
   ]
  },
  {
   "cell_type": "markdown",
   "id": "e3c212e6-7167-47d3-9204-301398928891",
   "metadata": {},
   "source": [
    "**Project Description:**\n",
    "\n",
    "We are working at a startup that sells food products. My task is to understand how users of mobile application behave.\n",
    "\n",
    "I will study the sales funnel. Find out how users progress towards making a purchase. How many users complete a purchase, and how many get stuck at previous stages? Specifically, at which stages do they get stuck?\n",
    "\n",
    "After that, investigate the results of an A/A/B experiment. The designers want to change the fonts throughout the entire application, but the managers are concerned that it might be unfamiliar to users. It was agreed to make a decision based on the results of the A/A/B test. Users have been divided into 3 groups: 2 control groups with the old fonts and one experimental group with the new fonts. Determine which font performs better."
   ]
  },
  {
   "cell_type": "markdown",
   "id": "385d2adc-309e-4cbd-8eb4-09076b58b779",
   "metadata": {},
   "source": [
    "**Research Objective:**\n",
    "- Determine if font size affects user purchasing behavior.\n",
    "\n",
    "**Research Tasks:**\n",
    "- Test the hypothesis of equality or inequality among the three groups.\n",
    "\n",
    "**Brief Research Plan:**\n",
    "1. Data Preprocessing;\n",
    "2. Data Preparation, checking for missing values and duplicates;\n",
    "3. Data Exploration: the number of users, events, maximum and minimum dates, potential dataset filtering;\n",
    "4. Event Funnel Analysis: the sequence of events, user conversion between events;\n",
    "5. Test for statistical differences between groups."
   ]
  },
  {
   "cell_type": "markdown",
   "id": "f08c8741-9254-450c-924a-33acd2e844ed",
   "metadata": {},
   "source": [
    "## Data Preprocessing"
   ]
  },
  {
   "cell_type": "code",
   "execution_count": 1,
   "id": "9ac37593-82ef-4643-beba-627608b75b4a",
   "metadata": {},
   "outputs": [],
   "source": [
    "import pandas as pd\n",
    "import scipy.stats as st\n",
    "import datetime as dt\n",
    "import numpy as np\n",
    "import matplotlib.pyplot as plt\n",
    "import seaborn as sns\n",
    "import math"
   ]
  },
  {
   "cell_type": "code",
   "execution_count": 2,
   "id": "89a80c05-7c9e-4b56-a990-4c302228a96e",
   "metadata": {},
   "outputs": [
    {
     "data": {
      "text/html": [
       "<div>\n",
       "<style scoped>\n",
       "    .dataframe tbody tr th:only-of-type {\n",
       "        vertical-align: middle;\n",
       "    }\n",
       "\n",
       "    .dataframe tbody tr th {\n",
       "        vertical-align: top;\n",
       "    }\n",
       "\n",
       "    .dataframe thead th {\n",
       "        text-align: right;\n",
       "    }\n",
       "</style>\n",
       "<table border=\"1\" class=\"dataframe\">\n",
       "  <thead>\n",
       "    <tr style=\"text-align: right;\">\n",
       "      <th></th>\n",
       "      <th>EventName</th>\n",
       "      <th>DeviceIDHash</th>\n",
       "      <th>EventTimestamp</th>\n",
       "      <th>ExpId</th>\n",
       "    </tr>\n",
       "  </thead>\n",
       "  <tbody>\n",
       "    <tr>\n",
       "      <th>0</th>\n",
       "      <td>MainScreenAppear</td>\n",
       "      <td>4575588528974610257</td>\n",
       "      <td>1564029816</td>\n",
       "      <td>246</td>\n",
       "    </tr>\n",
       "    <tr>\n",
       "      <th>1</th>\n",
       "      <td>MainScreenAppear</td>\n",
       "      <td>7416695313311560658</td>\n",
       "      <td>1564053102</td>\n",
       "      <td>246</td>\n",
       "    </tr>\n",
       "    <tr>\n",
       "      <th>2</th>\n",
       "      <td>PaymentScreenSuccessful</td>\n",
       "      <td>3518123091307005509</td>\n",
       "      <td>1564054127</td>\n",
       "      <td>248</td>\n",
       "    </tr>\n",
       "    <tr>\n",
       "      <th>3</th>\n",
       "      <td>CartScreenAppear</td>\n",
       "      <td>3518123091307005509</td>\n",
       "      <td>1564054127</td>\n",
       "      <td>248</td>\n",
       "    </tr>\n",
       "    <tr>\n",
       "      <th>4</th>\n",
       "      <td>PaymentScreenSuccessful</td>\n",
       "      <td>6217807653094995999</td>\n",
       "      <td>1564055322</td>\n",
       "      <td>248</td>\n",
       "    </tr>\n",
       "  </tbody>\n",
       "</table>\n",
       "</div>"
      ],
      "text/plain": [
       "                 EventName         DeviceIDHash  EventTimestamp  ExpId\n",
       "0         MainScreenAppear  4575588528974610257      1564029816    246\n",
       "1         MainScreenAppear  7416695313311560658      1564053102    246\n",
       "2  PaymentScreenSuccessful  3518123091307005509      1564054127    248\n",
       "3         CartScreenAppear  3518123091307005509      1564054127    248\n",
       "4  PaymentScreenSuccessful  6217807653094995999      1564055322    248"
      ]
     },
     "execution_count": 2,
     "metadata": {},
     "output_type": "execute_result"
    }
   ],
   "source": [
    "try:\n",
    "    logs = pd.read_csv('datasets/logs_exp.csv', sep='\\t')  \n",
    "except:    \n",
    "    logs = pd.read_csv('/datasets/logs_exp.csv', sep='\\t')\n",
    "logs.head(5)"
   ]
  },
  {
   "cell_type": "markdown",
   "id": "fe788ca4-8c2e-400b-b6fc-f19f0556eb04",
   "metadata": {},
   "source": [
    "## Подготовка данных"
   ]
  },
  {
   "cell_type": "code",
   "execution_count": 3,
   "id": "f1aea559-70fd-44c8-82d2-b06761ab9452",
   "metadata": {},
   "outputs": [],
   "source": [
    "# Use the columns method to replace column names\n",
    "logs.columns = ['event_name','device_id','event_timestamp','exp_id']"
   ]
  },
  {
   "cell_type": "code",
   "execution_count": 4,
   "id": "afe52700-70ac-4fce-a8af-7d0ed64bfe75",
   "metadata": {},
   "outputs": [
    {
     "name": "stdout",
     "output_type": "stream",
     "text": [
      "<class 'pandas.core.frame.DataFrame'>\n",
      "RangeIndex: 244126 entries, 0 to 244125\n",
      "Data columns (total 4 columns):\n",
      " #   Column           Non-Null Count   Dtype \n",
      "---  ------           --------------   ----- \n",
      " 0   event_name       244126 non-null  object\n",
      " 1   device_id        244126 non-null  int64 \n",
      " 2   event_timestamp  244126 non-null  int64 \n",
      " 3   exp_id           244126 non-null  int64 \n",
      "dtypes: int64(3), object(1)\n",
      "memory usage: 7.5+ MB\n"
     ]
    }
   ],
   "source": [
    "# Check Data Types\n",
    "logs.info()"
   ]
  },
  {
   "cell_type": "code",
   "execution_count": 5,
   "id": "915d6083-50aa-4217-855c-35707915b892",
   "metadata": {},
   "outputs": [
    {
     "data": {
      "text/html": [
       "<div>\n",
       "<style scoped>\n",
       "    .dataframe tbody tr th:only-of-type {\n",
       "        vertical-align: middle;\n",
       "    }\n",
       "\n",
       "    .dataframe tbody tr th {\n",
       "        vertical-align: top;\n",
       "    }\n",
       "\n",
       "    .dataframe thead th {\n",
       "        text-align: right;\n",
       "    }\n",
       "</style>\n",
       "<table border=\"1\" class=\"dataframe\">\n",
       "  <thead>\n",
       "    <tr style=\"text-align: right;\">\n",
       "      <th></th>\n",
       "      <th>event_name</th>\n",
       "      <th>device_id</th>\n",
       "      <th>event_timestamp</th>\n",
       "      <th>exp_id</th>\n",
       "    </tr>\n",
       "  </thead>\n",
       "  <tbody>\n",
       "    <tr>\n",
       "      <th>0</th>\n",
       "      <td>MainScreenAppear</td>\n",
       "      <td>4575588528974610257</td>\n",
       "      <td>2019-07-25 04:43:36</td>\n",
       "      <td>246</td>\n",
       "    </tr>\n",
       "    <tr>\n",
       "      <th>1</th>\n",
       "      <td>MainScreenAppear</td>\n",
       "      <td>7416695313311560658</td>\n",
       "      <td>2019-07-25 11:11:42</td>\n",
       "      <td>246</td>\n",
       "    </tr>\n",
       "    <tr>\n",
       "      <th>2</th>\n",
       "      <td>PaymentScreenSuccessful</td>\n",
       "      <td>3518123091307005509</td>\n",
       "      <td>2019-07-25 11:28:47</td>\n",
       "      <td>248</td>\n",
       "    </tr>\n",
       "    <tr>\n",
       "      <th>3</th>\n",
       "      <td>CartScreenAppear</td>\n",
       "      <td>3518123091307005509</td>\n",
       "      <td>2019-07-25 11:28:47</td>\n",
       "      <td>248</td>\n",
       "    </tr>\n",
       "    <tr>\n",
       "      <th>4</th>\n",
       "      <td>PaymentScreenSuccessful</td>\n",
       "      <td>6217807653094995999</td>\n",
       "      <td>2019-07-25 11:48:42</td>\n",
       "      <td>248</td>\n",
       "    </tr>\n",
       "    <tr>\n",
       "      <th>...</th>\n",
       "      <td>...</td>\n",
       "      <td>...</td>\n",
       "      <td>...</td>\n",
       "      <td>...</td>\n",
       "    </tr>\n",
       "    <tr>\n",
       "      <th>244121</th>\n",
       "      <td>MainScreenAppear</td>\n",
       "      <td>4599628364049201812</td>\n",
       "      <td>2019-08-07 21:12:25</td>\n",
       "      <td>247</td>\n",
       "    </tr>\n",
       "    <tr>\n",
       "      <th>244122</th>\n",
       "      <td>MainScreenAppear</td>\n",
       "      <td>5849806612437486590</td>\n",
       "      <td>2019-08-07 21:13:59</td>\n",
       "      <td>246</td>\n",
       "    </tr>\n",
       "    <tr>\n",
       "      <th>244123</th>\n",
       "      <td>MainScreenAppear</td>\n",
       "      <td>5746969938801999050</td>\n",
       "      <td>2019-08-07 21:14:43</td>\n",
       "      <td>246</td>\n",
       "    </tr>\n",
       "    <tr>\n",
       "      <th>244124</th>\n",
       "      <td>MainScreenAppear</td>\n",
       "      <td>5746969938801999050</td>\n",
       "      <td>2019-08-07 21:14:58</td>\n",
       "      <td>246</td>\n",
       "    </tr>\n",
       "    <tr>\n",
       "      <th>244125</th>\n",
       "      <td>OffersScreenAppear</td>\n",
       "      <td>5746969938801999050</td>\n",
       "      <td>2019-08-07 21:15:17</td>\n",
       "      <td>246</td>\n",
       "    </tr>\n",
       "  </tbody>\n",
       "</table>\n",
       "<p>244126 rows × 4 columns</p>\n",
       "</div>"
      ],
      "text/plain": [
       "                     event_name            device_id     event_timestamp  \\\n",
       "0              MainScreenAppear  4575588528974610257 2019-07-25 04:43:36   \n",
       "1              MainScreenAppear  7416695313311560658 2019-07-25 11:11:42   \n",
       "2       PaymentScreenSuccessful  3518123091307005509 2019-07-25 11:28:47   \n",
       "3              CartScreenAppear  3518123091307005509 2019-07-25 11:28:47   \n",
       "4       PaymentScreenSuccessful  6217807653094995999 2019-07-25 11:48:42   \n",
       "...                         ...                  ...                 ...   \n",
       "244121         MainScreenAppear  4599628364049201812 2019-08-07 21:12:25   \n",
       "244122         MainScreenAppear  5849806612437486590 2019-08-07 21:13:59   \n",
       "244123         MainScreenAppear  5746969938801999050 2019-08-07 21:14:43   \n",
       "244124         MainScreenAppear  5746969938801999050 2019-08-07 21:14:58   \n",
       "244125       OffersScreenAppear  5746969938801999050 2019-08-07 21:15:17   \n",
       "\n",
       "        exp_id  \n",
       "0          246  \n",
       "1          246  \n",
       "2          248  \n",
       "3          248  \n",
       "4          248  \n",
       "...        ...  \n",
       "244121     247  \n",
       "244122     246  \n",
       "244123     246  \n",
       "244124     246  \n",
       "244125     246  \n",
       "\n",
       "[244126 rows x 4 columns]"
      ]
     },
     "execution_count": 5,
     "metadata": {},
     "output_type": "execute_result"
    }
   ],
   "source": [
    "# Check Data Types & change types\n",
    "logs['event_timestamp'] = pd.to_datetime(logs['event_timestamp'], unit='s')\n",
    "logs"
   ]
  },
  {
   "cell_type": "code",
   "execution_count": 6,
   "id": "917e6d85-2e93-42bc-9d43-f28e8bcaa5d4",
   "metadata": {},
   "outputs": [
    {
     "data": {
      "text/plain": [
       "event_name         0\n",
       "device_id          0\n",
       "event_timestamp    0\n",
       "exp_id             0\n",
       "dtype: int64"
      ]
     },
     "execution_count": 6,
     "metadata": {},
     "output_type": "execute_result"
    }
   ],
   "source": [
    "# Check for Missing Values\n",
    "logs.isna().sum()"
   ]
  },
  {
   "cell_type": "code",
   "execution_count": 7,
   "id": "43bd5be4-b82e-42c2-b243-b81456896483",
   "metadata": {},
   "outputs": [
    {
     "data": {
      "text/plain": [
       "413"
      ]
     },
     "execution_count": 7,
     "metadata": {},
     "output_type": "execute_result"
    }
   ],
   "source": [
    "# Check for Duplicates\n",
    "logs.duplicated().sum()"
   ]
  },
  {
   "cell_type": "markdown",
   "id": "838a9cad-9b6e-4655-b4bb-86b90476ca08",
   "metadata": {},
   "source": [
    "Duplicates make up 0.17 percent of the total data, they can be ignored."
   ]
  },
  {
   "cell_type": "code",
   "execution_count": 8,
   "id": "de1bd656-5e09-40b6-b308-d2434e83910c",
   "metadata": {},
   "outputs": [
    {
     "data": {
      "text/html": [
       "<div>\n",
       "<style scoped>\n",
       "    .dataframe tbody tr th:only-of-type {\n",
       "        vertical-align: middle;\n",
       "    }\n",
       "\n",
       "    .dataframe tbody tr th {\n",
       "        vertical-align: top;\n",
       "    }\n",
       "\n",
       "    .dataframe thead th {\n",
       "        text-align: right;\n",
       "    }\n",
       "</style>\n",
       "<table border=\"1\" class=\"dataframe\">\n",
       "  <thead>\n",
       "    <tr style=\"text-align: right;\">\n",
       "      <th></th>\n",
       "      <th>event_name</th>\n",
       "      <th>device_id</th>\n",
       "      <th>event_timestamp</th>\n",
       "      <th>exp_id</th>\n",
       "    </tr>\n",
       "  </thead>\n",
       "  <tbody>\n",
       "    <tr>\n",
       "      <th>0</th>\n",
       "      <td>MainScreenAppear</td>\n",
       "      <td>4575588528974610257</td>\n",
       "      <td>2019-07-25 04:43:36</td>\n",
       "      <td>246</td>\n",
       "    </tr>\n",
       "    <tr>\n",
       "      <th>1</th>\n",
       "      <td>MainScreenAppear</td>\n",
       "      <td>7416695313311560658</td>\n",
       "      <td>2019-07-25 11:11:42</td>\n",
       "      <td>246</td>\n",
       "    </tr>\n",
       "    <tr>\n",
       "      <th>2</th>\n",
       "      <td>PaymentScreenSuccessful</td>\n",
       "      <td>3518123091307005509</td>\n",
       "      <td>2019-07-25 11:28:47</td>\n",
       "      <td>248</td>\n",
       "    </tr>\n",
       "    <tr>\n",
       "      <th>3</th>\n",
       "      <td>CartScreenAppear</td>\n",
       "      <td>3518123091307005509</td>\n",
       "      <td>2019-07-25 11:28:47</td>\n",
       "      <td>248</td>\n",
       "    </tr>\n",
       "    <tr>\n",
       "      <th>4</th>\n",
       "      <td>PaymentScreenSuccessful</td>\n",
       "      <td>6217807653094995999</td>\n",
       "      <td>2019-07-25 11:48:42</td>\n",
       "      <td>248</td>\n",
       "    </tr>\n",
       "    <tr>\n",
       "      <th>...</th>\n",
       "      <td>...</td>\n",
       "      <td>...</td>\n",
       "      <td>...</td>\n",
       "      <td>...</td>\n",
       "    </tr>\n",
       "    <tr>\n",
       "      <th>244121</th>\n",
       "      <td>MainScreenAppear</td>\n",
       "      <td>4599628364049201812</td>\n",
       "      <td>2019-08-07 21:12:25</td>\n",
       "      <td>247</td>\n",
       "    </tr>\n",
       "    <tr>\n",
       "      <th>244122</th>\n",
       "      <td>MainScreenAppear</td>\n",
       "      <td>5849806612437486590</td>\n",
       "      <td>2019-08-07 21:13:59</td>\n",
       "      <td>246</td>\n",
       "    </tr>\n",
       "    <tr>\n",
       "      <th>244123</th>\n",
       "      <td>MainScreenAppear</td>\n",
       "      <td>5746969938801999050</td>\n",
       "      <td>2019-08-07 21:14:43</td>\n",
       "      <td>246</td>\n",
       "    </tr>\n",
       "    <tr>\n",
       "      <th>244124</th>\n",
       "      <td>MainScreenAppear</td>\n",
       "      <td>5746969938801999050</td>\n",
       "      <td>2019-08-07 21:14:58</td>\n",
       "      <td>246</td>\n",
       "    </tr>\n",
       "    <tr>\n",
       "      <th>244125</th>\n",
       "      <td>OffersScreenAppear</td>\n",
       "      <td>5746969938801999050</td>\n",
       "      <td>2019-08-07 21:15:17</td>\n",
       "      <td>246</td>\n",
       "    </tr>\n",
       "  </tbody>\n",
       "</table>\n",
       "<p>243713 rows × 4 columns</p>\n",
       "</div>"
      ],
      "text/plain": [
       "                     event_name            device_id     event_timestamp  \\\n",
       "0              MainScreenAppear  4575588528974610257 2019-07-25 04:43:36   \n",
       "1              MainScreenAppear  7416695313311560658 2019-07-25 11:11:42   \n",
       "2       PaymentScreenSuccessful  3518123091307005509 2019-07-25 11:28:47   \n",
       "3              CartScreenAppear  3518123091307005509 2019-07-25 11:28:47   \n",
       "4       PaymentScreenSuccessful  6217807653094995999 2019-07-25 11:48:42   \n",
       "...                         ...                  ...                 ...   \n",
       "244121         MainScreenAppear  4599628364049201812 2019-08-07 21:12:25   \n",
       "244122         MainScreenAppear  5849806612437486590 2019-08-07 21:13:59   \n",
       "244123         MainScreenAppear  5746969938801999050 2019-08-07 21:14:43   \n",
       "244124         MainScreenAppear  5746969938801999050 2019-08-07 21:14:58   \n",
       "244125       OffersScreenAppear  5746969938801999050 2019-08-07 21:15:17   \n",
       "\n",
       "        exp_id  \n",
       "0          246  \n",
       "1          246  \n",
       "2          248  \n",
       "3          248  \n",
       "4          248  \n",
       "...        ...  \n",
       "244121     247  \n",
       "244122     246  \n",
       "244123     246  \n",
       "244124     246  \n",
       "244125     246  \n",
       "\n",
       "[243713 rows x 4 columns]"
      ]
     },
     "execution_count": 8,
     "metadata": {},
     "output_type": "execute_result"
    }
   ],
   "source": [
    "logs.drop_duplicates()"
   ]
  },
  {
   "cell_type": "code",
   "execution_count": 9,
   "id": "2488f785-56a4-4871-a9ff-0dd1d96eb376",
   "metadata": {},
   "outputs": [
    {
     "data": {
      "text/html": [
       "<div>\n",
       "<style scoped>\n",
       "    .dataframe tbody tr th:only-of-type {\n",
       "        vertical-align: middle;\n",
       "    }\n",
       "\n",
       "    .dataframe tbody tr th {\n",
       "        vertical-align: top;\n",
       "    }\n",
       "\n",
       "    .dataframe thead th {\n",
       "        text-align: right;\n",
       "    }\n",
       "</style>\n",
       "<table border=\"1\" class=\"dataframe\">\n",
       "  <thead>\n",
       "    <tr style=\"text-align: right;\">\n",
       "      <th></th>\n",
       "      <th>event_name</th>\n",
       "      <th>device_id</th>\n",
       "      <th>event_timestamp</th>\n",
       "      <th>exp_id</th>\n",
       "      <th>date</th>\n",
       "    </tr>\n",
       "  </thead>\n",
       "  <tbody>\n",
       "    <tr>\n",
       "      <th>0</th>\n",
       "      <td>MainScreenAppear</td>\n",
       "      <td>4575588528974610257</td>\n",
       "      <td>2019-07-25 04:43:36</td>\n",
       "      <td>246</td>\n",
       "      <td>2019-07-25</td>\n",
       "    </tr>\n",
       "    <tr>\n",
       "      <th>1</th>\n",
       "      <td>MainScreenAppear</td>\n",
       "      <td>7416695313311560658</td>\n",
       "      <td>2019-07-25 11:11:42</td>\n",
       "      <td>246</td>\n",
       "      <td>2019-07-25</td>\n",
       "    </tr>\n",
       "    <tr>\n",
       "      <th>2</th>\n",
       "      <td>PaymentScreenSuccessful</td>\n",
       "      <td>3518123091307005509</td>\n",
       "      <td>2019-07-25 11:28:47</td>\n",
       "      <td>248</td>\n",
       "      <td>2019-07-25</td>\n",
       "    </tr>\n",
       "    <tr>\n",
       "      <th>3</th>\n",
       "      <td>CartScreenAppear</td>\n",
       "      <td>3518123091307005509</td>\n",
       "      <td>2019-07-25 11:28:47</td>\n",
       "      <td>248</td>\n",
       "      <td>2019-07-25</td>\n",
       "    </tr>\n",
       "    <tr>\n",
       "      <th>4</th>\n",
       "      <td>PaymentScreenSuccessful</td>\n",
       "      <td>6217807653094995999</td>\n",
       "      <td>2019-07-25 11:48:42</td>\n",
       "      <td>248</td>\n",
       "      <td>2019-07-25</td>\n",
       "    </tr>\n",
       "  </tbody>\n",
       "</table>\n",
       "</div>"
      ],
      "text/plain": [
       "                event_name            device_id     event_timestamp  exp_id  \\\n",
       "0         MainScreenAppear  4575588528974610257 2019-07-25 04:43:36     246   \n",
       "1         MainScreenAppear  7416695313311560658 2019-07-25 11:11:42     246   \n",
       "2  PaymentScreenSuccessful  3518123091307005509 2019-07-25 11:28:47     248   \n",
       "3         CartScreenAppear  3518123091307005509 2019-07-25 11:28:47     248   \n",
       "4  PaymentScreenSuccessful  6217807653094995999 2019-07-25 11:48:42     248   \n",
       "\n",
       "         date  \n",
       "0  2019-07-25  \n",
       "1  2019-07-25  \n",
       "2  2019-07-25  \n",
       "3  2019-07-25  \n",
       "4  2019-07-25  "
      ]
     },
     "execution_count": 9,
     "metadata": {},
     "output_type": "execute_result"
    }
   ],
   "source": [
    "# Add a new column for date and time,\n",
    "logs['date'] = logs['event_timestamp'].dt.date\n",
    "logs.head(5)"
   ]
  },
  {
   "cell_type": "markdown",
   "id": "de2cde0c-3b8c-4342-be75-fcb104479e3b",
   "metadata": {},
   "source": [
    "## Data Exploration: the number of users, events, maximum and minimum dates, potential dataset filtering"
   ]
  },
  {
   "cell_type": "markdown",
   "id": "5029a703-29e8-4cfc-badb-014060068962",
   "metadata": {},
   "source": [
    "### Let's check the total number of events in the log"
   ]
  },
  {
   "cell_type": "code",
   "execution_count": 10,
   "id": "969479ab-4ec6-4cc7-8988-c4b32a3c1127",
   "metadata": {},
   "outputs": [
    {
     "name": "stdout",
     "output_type": "stream",
     "text": [
      "Total event types in the log: 5\n",
      "Total number of events: 244126\n"
     ]
    }
   ],
   "source": [
    "print(\"Total event types in the log:\", len(logs['event_name'].value_counts()))\n",
    "print(\"Total number of events:\", len(logs['event_name']))"
   ]
  },
  {
   "cell_type": "markdown",
   "id": "6a614572-93d6-4695-9696-a1bba9ca56d8",
   "metadata": {},
   "source": [
    "### Let's check the total number of users in the log:"
   ]
  },
  {
   "cell_type": "code",
   "execution_count": 11,
   "id": "2cde4693-9a01-4ff2-94bb-399464959253",
   "metadata": {},
   "outputs": [
    {
     "name": "stdout",
     "output_type": "stream",
     "text": [
      "Total users in the log: 7551\n"
     ]
    }
   ],
   "source": [
    "print(\"Total users in the log:\", len(logs['device_id'].value_counts()))"
   ]
  },
  {
   "cell_type": "markdown",
   "id": "fee3be78-263c-4e27-9bbb-ef6603dfdd8d",
   "metadata": {},
   "source": [
    "### The average number of events per user "
   ]
  },
  {
   "cell_type": "code",
   "execution_count": 12,
   "id": "062393ba-8766-4546-9df7-cb03d673ed43",
   "metadata": {},
   "outputs": [
    {
     "name": "stdout",
     "output_type": "stream",
     "text": [
      "On average, events per user: 32.33\n"
     ]
    }
   ],
   "source": [
    "print(\"On average, events per user:\", round(logs['device_id'].value_counts().mean(), 2))"
   ]
  },
  {
   "cell_type": "code",
   "execution_count": 13,
   "id": "04747228-0547-42c6-b4d8-4b9efda22557",
   "metadata": {},
   "outputs": [
    {
     "data": {
      "image/png": "[encoded data removed]",
      "text/plain": [
       "<Figure size 720x432 with 1 Axes>"
      ]
     },
     "metadata": {
      "needs_background": "light"
     },
     "output_type": "display_data"
    }
   ],
   "source": [
    "event_per_user = logs.pivot_table(index=['device_id'],values = 'event_name', aggfunc='count')\n",
    "event_per_user['event_name'].hist(bins=15,figsize=(10, 6),color = (0.2,0.1,0.5,0.6));\n",
    "plt.title('The average number of events per user');"
   ]
  },
  {
   "cell_type": "code",
   "execution_count": 14,
   "id": "53b473ab-5006-4416-9c3f-59624929f500",
   "metadata": {},
   "outputs": [
    {
     "data": {
      "image/png": "[encoded data removed]",
      "text/plain": [
       "<Figure size 720x432 with 1 Axes>"
      ]
     },
     "metadata": {
      "needs_background": "light"
     },
     "output_type": "display_data"
    }
   ],
   "source": [
    "event_per_user.query('event_name < 80').hist(bins=15,figsize=(10, 6),color = (0.2,0.1,0.5,0.6));\n",
    "plt.title('The average number of events per user, sacled to number of events less than 80');"
   ]
  },
  {
   "cell_type": "markdown",
   "id": "78c5b728-9158-41e1-8979-727f9f7123be",
   "metadata": {},
   "source": [
    "From the histogram, it can be seen that the number of events per user gradually decreases. More than 80 events per user occur infrequently and can be considered anomalies. The average number of events per user is 32.33."
   ]
  },
  {
   "cell_type": "markdown",
   "id": "5712b310-6696-4fa9-bb23-7ca4508178f0",
   "metadata": {},
   "source": [
    "### Minimum and maximum start day"
   ]
  },
  {
   "cell_type": "code",
   "execution_count": 15,
   "id": "9ce5f220-d5fe-4091-9cf4-08ba1a745d76",
   "metadata": {},
   "outputs": [
    {
     "name": "stdout",
     "output_type": "stream",
     "text": [
      "Minimum date of observation: 2019-07-25\n",
      "Maximum date of observation: 2019-08-07\n"
     ]
    }
   ],
   "source": [
    "print(\"Minimum date of observation:\", logs['date'].min())\n",
    "print(\"Maximum date of observation:\", logs['date'].max())"
   ]
  },
  {
   "cell_type": "code",
   "execution_count": 16,
   "id": "a6ee6ad4-0482-4198-bded-7f3309fe0019",
   "metadata": {},
   "outputs": [
    {
     "data": {
      "image/png": "[encoded data removed]",
      "text/plain": [
       "<Figure size 720x432 with 1 Axes>"
      ]
     },
     "metadata": {},
     "output_type": "display_data"
    }
   ],
   "source": [
    "# Let's examine how the data volume changes: create a bar chart that shows the number of events\n",
    "# depending on time, broken down by groups.\n",
    "\n",
    "# Set the style to 'white' (if using Seaborn)\n",
    "sns.set(style='white')\n",
    "\n",
    "# Create a histogram of events by date with 14 bins, specifying the figure size and color\n",
    "logs['date'].hist(bins=14, figsize=(10, 6), color=(0.2, 0.1, 0.5, 0.6))\n",
    "\n",
    "# Rotate the x-axis labels for better readability\n",
    "plt.xticks(rotation=50)\n",
    "\n",
    "# Set the title of the chart\n",
    "plt.title('Number of Events Over Time')\n",
    "\n",
    "# Display the chart\n",
    "plt.show()"
   ]
  },
  {
   "cell_type": "code",
   "execution_count": 17,
   "id": "7f36c7ff-cabc-4410-a9a1-78f475150047",
   "metadata": {},
   "outputs": [
    {
     "data": {
      "image/png": "[encoded data removed]",
      "text/plain": [
       "<Figure size 720x432 with 1 Axes>"
      ]
     },
     "metadata": {},
     "output_type": "display_data"
    }
   ],
   "source": [
    "# Convert the 'date' column to datetime\n",
    "logs['date'] = pd.to_datetime(logs['date'])\n",
    "\n",
    "# Filter logs for dates after \"2019-07-31\"\n",
    "logs_date_fltr = logs.query('date > \"2019-07-31\"')\n",
    "\n",
    "# Create a histogram of events by date with 7 bins, specifying the figure size and color\n",
    "logs_date_fltr['date'].hist(bins=7, figsize=(10, 6), color=(0.2, 0.1, 0.5, 0.6))\n",
    "\n",
    "# Rotate the x-axis labels for better readability\n",
    "plt.xticks(rotation=50)\n",
    "\n",
    "# Set the title of the chart\n",
    "plt.title('Number of Events Over Time from 2019-08-01 onwards');"
   ]
  },
  {
   "cell_type": "markdown",
   "id": "85de6816-2a0e-4b52-b323-861eefd57f10",
   "metadata": {},
   "source": [
    "Minimum date: 2019-07-25 and maximum date: 2019-08-07. After constructing the diagram, it is clear that before 2019-08-01 almost no events occurred; after filtering out these dates, we built a new histogram.\n",
    "\n",
    "Let's establish that the data is complete from 2019-08-01 and discard other dates."
   ]
  },
  {
   "cell_type": "markdown",
   "id": "14bc4a18-fe5f-4d19-ab82-f48458abf651",
   "metadata": {},
   "source": [
    "### Check how many events and users have been lost by discarding old data"
   ]
  },
  {
   "cell_type": "code",
   "execution_count": 18,
   "id": "e336f87a-e7a1-4017-85fe-65c23a5e10d8",
   "metadata": {},
   "outputs": [
    {
     "name": "stdout",
     "output_type": "stream",
     "text": [
      "<class 'pandas.core.frame.DataFrame'>\n",
      "RangeIndex: 244126 entries, 0 to 244125\n",
      "Data columns (total 5 columns):\n",
      " #   Column           Non-Null Count   Dtype         \n",
      "---  ------           --------------   -----         \n",
      " 0   event_name       244126 non-null  object        \n",
      " 1   device_id        244126 non-null  int64         \n",
      " 2   event_timestamp  244126 non-null  datetime64[ns]\n",
      " 3   exp_id           244126 non-null  int64         \n",
      " 4   date             244126 non-null  datetime64[ns]\n",
      "dtypes: datetime64[ns](2), int64(2), object(1)\n",
      "memory usage: 9.3+ MB\n",
      "None\n"
     ]
    }
   ],
   "source": [
    "print(logs.info())"
   ]
  },
  {
   "cell_type": "code",
   "execution_count": 19,
   "id": "88822c6a-5efd-490d-98a4-1eee9e13fc2b",
   "metadata": {},
   "outputs": [
    {
     "name": "stdout",
     "output_type": "stream",
     "text": [
      "<class 'pandas.core.frame.DataFrame'>\n",
      "Int64Index: 241298 entries, 2828 to 244125\n",
      "Data columns (total 5 columns):\n",
      " #   Column           Non-Null Count   Dtype         \n",
      "---  ------           --------------   -----         \n",
      " 0   event_name       241298 non-null  object        \n",
      " 1   device_id        241298 non-null  int64         \n",
      " 2   event_timestamp  241298 non-null  datetime64[ns]\n",
      " 3   exp_id           241298 non-null  int64         \n",
      " 4   date             241298 non-null  datetime64[ns]\n",
      "dtypes: datetime64[ns](2), int64(2), object(1)\n",
      "memory usage: 11.0+ MB\n"
     ]
    }
   ],
   "source": [
    "logs_date_fltr.info()"
   ]
  },
  {
   "cell_type": "code",
   "execution_count": 20,
   "id": "579a4f33-a828-4876-b92a-7d989582949c",
   "metadata": {},
   "outputs": [
    {
     "name": "stdout",
     "output_type": "stream",
     "text": [
      "The percentage of data discarded is: 1.16\n"
     ]
    }
   ],
   "source": [
    "print('The percentage of data discarded is:', round((100 - (len(logs_date_fltr['event_name'])/len(logs['event_name'])*100)),2))"
   ]
  },
  {
   "cell_type": "code",
   "execution_count": 21,
   "id": "67ffbff8-58aa-44f5-a9d1-a9b8c70d4ab9",
   "metadata": {},
   "outputs": [
    {
     "name": "stdout",
     "output_type": "stream",
     "text": [
      "Total users logs: 7551\n",
      "Total users logs_date_fltr: 7534\n"
     ]
    }
   ],
   "source": [
    "user_count_old = len(logs['device_id'].value_counts())\n",
    "user_count_new = len(logs_date_fltr['device_id'].value_counts())\n",
    "print('Total users logs:',user_count_old)\n",
    "print('Total users logs_date_fltr:', user_count_new)"
   ]
  },
  {
   "cell_type": "code",
   "execution_count": 22,
   "id": "4f1d7963-544f-4c53-8690-24737f2f7950",
   "metadata": {},
   "outputs": [
    {
     "name": "stdout",
     "output_type": "stream",
     "text": [
      "The percentage of unique data users is: 0.2\n"
     ]
    }
   ],
   "source": [
    "print('The percentage of unique data users is:',round(1 - user_count_new/user_count_old,3)*100)"
   ]
  },
  {
   "cell_type": "code",
   "execution_count": 23,
   "id": "3d0ac799-7946-46f0-b895-d89ec9944848",
   "metadata": {},
   "outputs": [
    {
     "name": "stdout",
     "output_type": "stream",
     "text": [
      "Total users logs: event_name\n",
      "MainScreenAppear           119205\n",
      "OffersScreenAppear          46825\n",
      "CartScreenAppear            42731\n",
      "PaymentScreenSuccessful     34313\n",
      "Tutorial                     1052\n",
      "Name: event_name, dtype: int64\n"
     ]
    }
   ],
   "source": [
    "print('Total users logs:',logs.groupby(by='event_name')['event_name'].count().sort_values(ascending=False))"
   ]
  },
  {
   "cell_type": "code",
   "execution_count": 24,
   "id": "a6247b6f-2e04-448c-aa0d-8e86dca46d0d",
   "metadata": {},
   "outputs": [
    {
     "name": "stdout",
     "output_type": "stream",
     "text": [
      "Total users logslogs_date_fltr: event_name\n",
      "MainScreenAppear           117431\n",
      "OffersScreenAppear          46350\n",
      "CartScreenAppear            42365\n",
      "PaymentScreenSuccessful     34113\n",
      "Tutorial                     1039\n",
      "Name: event_name, dtype: int64\n"
     ]
    }
   ],
   "source": [
    "print('Total users logslogs_date_fltr:',logs_date_fltr.groupby(by='event_name')['event_name'].count().sort_values(ascending=False))"
   ]
  },
  {
   "cell_type": "markdown",
   "id": "b6c429ba-d381-4a4e-9c6e-6c2e5ce68535",
   "metadata": {},
   "source": [
    "The original dataframe had 244126 rows, the filtered one had 241298. The number of discarded data is 1.16%.\n",
    "\n",
    "A total of 17 unique users were discarded. 0.2% of the total.\n",
    "\n",
    "Also for events, when filtering data, the percentage of discarded data can be considered insignificant."
   ]
  },
  {
   "cell_type": "markdown",
   "id": "471ee592-8782-4895-9c54-4fa61a6b7bd9",
   "metadata": {},
   "source": [
    "### Check if there are users from all three experimental groups"
   ]
  },
  {
   "cell_type": "code",
   "execution_count": 25,
   "id": "fc4fae4f-8d80-4f60-96b5-4759ee87d1a2",
   "metadata": {},
   "outputs": [
    {
     "data": {
      "text/plain": [
       "248    84726\n",
       "246    79425\n",
       "247    77147\n",
       "Name: exp_id, dtype: int64"
      ]
     },
     "execution_count": 25,
     "metadata": {},
     "output_type": "execute_result"
    }
   ],
   "source": [
    "logs_date_fltr['exp_id'].value_counts()"
   ]
  },
  {
   "cell_type": "markdown",
   "id": "6b3689f0-11f7-4c63-b996-5f859afc6f94",
   "metadata": {},
   "source": [
    "All three groups are present in the filtered date."
   ]
  },
  {
   "cell_type": "markdown",
   "id": "0a63af92-132b-4b59-ad9e-e1fc556f7984",
   "metadata": {},
   "source": [
    "**The data was also checked and studied**\n",
    "\n",
    "There were a total of 5 events in the dataframe. Total number of events: 244126. Total number of unique users 7551. Average number of events per user - 32.33. But due to what the anomalous values represent, you can notice that the average number of events for a user is: 0 - 30.\n",
    "\n",
    "The minimum date of the event was determined: July 25, 2019 and the maximum date of the event: August 07, 2019. After studying the data, it can be seen that until August 01, 2019, the events were practically unaffected. They found that the data was complete from 08/01/2019 and discarded other dates.\n",
    "\n",
    "When filtering data, the percentage of data discarded is 1.2%. The percentage of unique users is 0.22% of the total."
   ]
  },
  {
   "cell_type": "markdown",
   "id": "b7330f16-744a-4db8-a2c3-7f053e6342a2",
   "metadata": {},
   "source": [
    " ## Exploring the event funnel"
   ]
  },
  {
   "cell_type": "markdown",
   "id": "abc01511-90a6-41db-9095-bf806e27616c",
   "metadata": {},
   "source": [
    "### Check what events are in the logs and how often they occur"
   ]
  },
  {
   "cell_type": "code",
   "execution_count": 26,
   "id": "6d1c31b2-55e5-457e-a8fa-00dc461c80b8",
   "metadata": {},
   "outputs": [
    {
     "data": {
      "text/plain": [
       "event_name\n",
       "MainScreenAppear           117431\n",
       "OffersScreenAppear          46350\n",
       "CartScreenAppear            42365\n",
       "PaymentScreenSuccessful     34113\n",
       "Tutorial                     1039\n",
       "Name: event_name, dtype: int64"
      ]
     },
     "execution_count": 26,
     "metadata": {},
     "output_type": "execute_result"
    }
   ],
   "source": [
    "logs_date_fltr.groupby(by='event_name')['event_name'].count().sort_values(ascending=False)"
   ]
  },
  {
   "cell_type": "code",
   "execution_count": 27,
   "id": "6b51fe48-adba-477c-bf16-10339140ae72",
   "metadata": {},
   "outputs": [
    {
     "data": {
      "image/png": "[encoded data removed]",
      "text/plain": [
       "<Figure size 720x432 with 1 Axes>"
      ]
     },
     "metadata": {},
     "output_type": "display_data"
    }
   ],
   "source": [
    "sns.set(style='white')\n",
    "plt.figure(figsize=(10, 6))\n",
    "\n",
    "logs_date_fltr['event_name'].sort_values(ascending=False).hist(color = (0.2,0.1,0.5,0.6));\n",
    "plt.title('Frequency of events in the log');"
   ]
  },
  {
   "cell_type": "markdown",
   "id": "a12d94bb-6fc2-43b0-9c57-ab9ac4ce1237",
   "metadata": {},
   "source": [
    "There are 5 events in the log, the most frequent: Main Screen Appear, then OffersScreenAppear and the rarest - Tutorial."
   ]
  },
  {
   "cell_type": "markdown",
   "id": "7a080371-2924-49cd-82ae-d70d7aad8ea0",
   "metadata": {},
   "source": [
    "### Count how many users performed each of these events"
   ]
  },
  {
   "cell_type": "code",
   "execution_count": 28,
   "id": "77b5c7c2-59b1-4be0-9a43-88650b3ffe5b",
   "metadata": {},
   "outputs": [
    {
     "data": {
      "text/plain": [
       "event_name\n",
       "MainScreenAppear           117431\n",
       "OffersScreenAppear          46350\n",
       "CartScreenAppear            42365\n",
       "PaymentScreenSuccessful     34113\n",
       "Tutorial                     1039\n",
       "Name: device_id, dtype: int64"
      ]
     },
     "execution_count": 28,
     "metadata": {},
     "output_type": "execute_result"
    }
   ],
   "source": [
    "logs_date_fltr.groupby('event_name')['device_id'].count().sort_values(ascending=False)"
   ]
  },
  {
   "cell_type": "code",
   "execution_count": 29,
   "id": "60d292c4-e63e-40b8-8b4d-f125c57f96bc",
   "metadata": {},
   "outputs": [],
   "source": [
    "event_per_user = logs_date_fltr.pivot_table(index=['event_name'],values = 'device_id', aggfunc='nunique')\n",
    "event_per_user['share'] = round(event_per_user['device_id'] / logs_date_fltr['device_id'].nunique(), 2) * 100\n",
    "event_per_user = event_per_user.sort_values(by='share', ascending=False)"
   ]
  },
  {
   "cell_type": "code",
   "execution_count": 30,
   "id": "967aa171-e127-45a2-aab0-86bc2ae52809",
   "metadata": {},
   "outputs": [
    {
     "data": {
      "image/png": "[encoded data removed]",
      "text/plain": [
       "<Figure size 432x432 with 1 Axes>"
      ]
     },
     "metadata": {},
     "output_type": "display_data"
    }
   ],
   "source": [
    "event_per_user.plot(y='share', \n",
    "                    kind='pie',\n",
    "                    figsize=(6,6), \n",
    "                    autopct = '%1.1f%%',\n",
    "                    shadow = True, startangle = 90,\n",
    "                    wedgeprops= {\"edgecolor\":\"black\",\n",
    "                     'linewidth': 0.5,\n",
    "                     'antialiased': True});\n",
    "plt.title('Share of users who completed an event at least once');\n",
    "plt.legend('',frameon=False);\n",
    "plt.show();"
   ]
  },
  {
   "cell_type": "markdown",
   "id": "9385d8cf-3cf2-457e-8644-6264fd367016",
   "metadata": {},
   "source": [
    "**The most popular event is:**\n",
    "\n",
    "1. Main Screen Appear\n",
    "2. Offers Screen Appear\n",
    "3. Cart Screen Appear\n",
    "4. Payment Screen Appear\n",
    "5. Tutorial\n",
    "\n",
    "A certain funnel of events is taking shape. Tutorial is not the last step in this funnel, but is likely to be used only in rare cases."
   ]
  },
  {
   "cell_type": "markdown",
   "id": "39d42e29-85c3-4e3f-b2d7-17b71589e293",
   "metadata": {},
   "source": [
    "### Based on the event funnel, we will calculate what proportion of users proceed to the next step of the funnel"
   ]
  },
  {
   "cell_type": "code",
   "execution_count": 31,
   "id": "5e4e8c74-6fac-4f40-a47a-34d973c23058",
   "metadata": {},
   "outputs": [],
   "source": [
    "# Remove Tutorial\n",
    "event_per_user = event_per_user.drop(['Tutorial'])"
   ]
  },
  {
   "cell_type": "code",
   "execution_count": 32,
   "id": "4027e263-6150-4809-9e31-cc57fa751b05",
   "metadata": {},
   "outputs": [
    {
     "data": {
      "text/html": [
       "<div>\n",
       "<style scoped>\n",
       "    .dataframe tbody tr th:only-of-type {\n",
       "        vertical-align: middle;\n",
       "    }\n",
       "\n",
       "    .dataframe tbody tr th {\n",
       "        vertical-align: top;\n",
       "    }\n",
       "\n",
       "    .dataframe thead th {\n",
       "        text-align: right;\n",
       "    }\n",
       "</style>\n",
       "<table border=\"1\" class=\"dataframe\">\n",
       "  <thead>\n",
       "    <tr style=\"text-align: right;\">\n",
       "      <th></th>\n",
       "      <th>device_id</th>\n",
       "      <th>share</th>\n",
       "      <th>conversion</th>\n",
       "    </tr>\n",
       "    <tr>\n",
       "      <th>event_name</th>\n",
       "      <th></th>\n",
       "      <th></th>\n",
       "      <th></th>\n",
       "    </tr>\n",
       "  </thead>\n",
       "  <tbody>\n",
       "    <tr>\n",
       "      <th>MainScreenAppear</th>\n",
       "      <td>7419</td>\n",
       "      <td>98.0</td>\n",
       "      <td>100.00</td>\n",
       "    </tr>\n",
       "    <tr>\n",
       "      <th>OffersScreenAppear</th>\n",
       "      <td>4593</td>\n",
       "      <td>61.0</td>\n",
       "      <td>61.91</td>\n",
       "    </tr>\n",
       "    <tr>\n",
       "      <th>CartScreenAppear</th>\n",
       "      <td>3734</td>\n",
       "      <td>50.0</td>\n",
       "      <td>81.30</td>\n",
       "    </tr>\n",
       "    <tr>\n",
       "      <th>PaymentScreenSuccessful</th>\n",
       "      <td>3539</td>\n",
       "      <td>47.0</td>\n",
       "      <td>94.78</td>\n",
       "    </tr>\n",
       "  </tbody>\n",
       "</table>\n",
       "</div>"
      ],
      "text/plain": [
       "                         device_id  share  conversion\n",
       "event_name                                           \n",
       "MainScreenAppear              7419   98.0      100.00\n",
       "OffersScreenAppear            4593   61.0       61.91\n",
       "CartScreenAppear              3734   50.0       81.30\n",
       "PaymentScreenSuccessful       3539   47.0       94.78"
      ]
     },
     "metadata": {},
     "output_type": "display_data"
    }
   ],
   "source": [
    "# Adding a column with conversion by steps\n",
    "event_per_user['conversion'] = round(\n",
    "    (event_per_user['device_id'] / event_per_user['device_id'].shift(1) * 100).fillna(100),2)\n",
    "display(event_per_user)"
   ]
  },
  {
   "cell_type": "markdown",
   "id": "883c851e-37f4-4a59-86a6-67a1cc531247",
   "metadata": {},
   "source": [
    "Most users are lost from the MainScreenAppear step to OffersScreenAppear, only 61.91% move on to the next step.\n",
    "\n",
    "81.30% of users switch from the OffersScreenAppear step to CartScreenAppear.\n",
    "\n",
    "From CartScreenAppear to PaymentScreenSuccessful 94.78%. Which shows good conversion at this step."
   ]
  },
  {
   "cell_type": "markdown",
   "id": "b1b8f5fc-1294-4603-b18a-bc320617d5e8",
   "metadata": {},
   "source": [
    "### What percentage of users make it from the first event to payment?"
   ]
  },
  {
   "cell_type": "code",
   "execution_count": 33,
   "id": "ae69a7db-0151-4539-96b5-885726757f86",
   "metadata": {},
   "outputs": [],
   "source": [
    "share_users = round(event_per_user['device_id'][3]/event_per_user['device_id'][0]*100,2)"
   ]
  },
  {
   "cell_type": "code",
   "execution_count": 34,
   "id": "8c4adae8-ffd1-427f-851c-1b75b0264e90",
   "metadata": {},
   "outputs": [
    {
     "name": "stdout",
     "output_type": "stream",
     "text": [
      "Share of users moving from the first event to payment: 47.7 %\n"
     ]
    }
   ],
   "source": [
    "print('Share of users moving from the first event to payment:', share_users, '%')"
   ]
  },
  {
   "cell_type": "code",
   "execution_count": 35,
   "id": "a3746576-c9a4-4e52-82fa-d1dc973dd4be",
   "metadata": {},
   "outputs": [
    {
     "name": "stdout",
     "output_type": "stream",
     "text": [
      "<class 'pandas.core.frame.DataFrame'>\n",
      "Index: 4 entries, MainScreenAppear to PaymentScreenSuccessful\n",
      "Data columns (total 3 columns):\n",
      " #   Column      Non-Null Count  Dtype  \n",
      "---  ------      --------------  -----  \n",
      " 0   device_id   4 non-null      int64  \n",
      " 1   share       4 non-null      float64\n",
      " 2   conversion  4 non-null      float64\n",
      "dtypes: float64(2), int64(1)\n",
      "memory usage: 128.0+ bytes\n"
     ]
    }
   ],
   "source": [
    "event_per_user.info()"
   ]
  },
  {
   "cell_type": "code",
   "execution_count": 56,
   "id": "d2df63bb-0a11-4906-b0ba-364a0c12e456",
   "metadata": {},
   "outputs": [
    {
     "data": {
      "application/vnd.plotly.v1+json": {
       "config": {
        "plotlyServerURL": "https://plot.ly"
       },
       "data": [
        {
         "connector": {
          "line": {
           "color": "royalblue",
           "dash": "dot",
           "width": 3
          }
         },
         "marker": {
          "color": [
           "deepskyblue",
           "salmon",
           "tan",
           "teal",
           "silver"
          ],
          "line": {
           "color": [
            "wheat",
            "wheat",
            "blue",
            "wheat",
            "wheat"
           ],
           "width": [
            4,
            2,
            2,
            3,
            1,
            1
           ]
          }
         },
         "opacity": 0.65,
         "textinfo": "value+percent initial",
         "textposition": "inside",
         "type": "funnel",
         "x": [
          7419,
          4593,
          3734,
          3539
         ],
         "y": [
          "MainScreenAppear",
          "OffersScreenAppear",
          "CartScreenAppear",
          "PaymentScreenSuccessful"
         ]
        }
       ],
       "layout": {
        "autosize": true,
        "template": {
         "data": {
          "bar": [
           {
            "error_x": {
             "color": "#2a3f5f"
            },
            "error_y": {
             "color": "#2a3f5f"
            },
            "marker": {
             "line": {
              "color": "#E5ECF6",
              "width": 0.5
             },
             "pattern": {
              "fillmode": "overlay",
              "size": 10,
              "solidity": 0.2
             }
            },
            "type": "bar"
           }
          ],
          "barpolar": [
           {
            "marker": {
             "line": {
              "color": "#E5ECF6",
              "width": 0.5
             },
             "pattern": {
              "fillmode": "overlay",
              "size": 10,
              "solidity": 0.2
             }
            },
            "type": "barpolar"
           }
          ],
          "carpet": [
           {
            "aaxis": {
             "endlinecolor": "#2a3f5f",
             "gridcolor": "white",
             "linecolor": "white",
             "minorgridcolor": "white",
             "startlinecolor": "#2a3f5f"
            },
            "baxis": {
             "endlinecolor": "#2a3f5f",
             "gridcolor": "white",
             "linecolor": "white",
             "minorgridcolor": "white",
             "startlinecolor": "#2a3f5f"
            },
            "type": "carpet"
           }
          ],
          "choropleth": [
           {
            "colorbar": {
             "outlinewidth": 0,
             "ticks": ""
            },
            "type": "choropleth"
           }
          ],
          "contour": [
           {
            "colorbar": {
             "outlinewidth": 0,
             "ticks": ""
            },
            "colorscale": [
             [
              0,
              "#0d0887"
             ],
             [
              0.1111111111111111,
              "#46039f"
             ],
             [
              0.2222222222222222,
              "#7201a8"
             ],
             [
              0.3333333333333333,
              "#9c179e"
             ],
             [
              0.4444444444444444,
              "#bd3786"
             ],
             [
              0.5555555555555556,
              "#d8576b"
             ],
             [
              0.6666666666666666,
              "#ed7953"
             ],
             [
              0.7777777777777778,
              "#fb9f3a"
             ],
             [
              0.8888888888888888,
              "#fdca26"
             ],
             [
              1,
              "#f0f921"
             ]
            ],
            "type": "contour"
           }
          ],
          "contourcarpet": [
           {
            "colorbar": {
             "outlinewidth": 0,
             "ticks": ""
            },
            "type": "contourcarpet"
           }
          ],
          "heatmap": [
           {
            "colorbar": {
             "outlinewidth": 0,
             "ticks": ""
            },
            "colorscale": [
             [
              0,
              "#0d0887"
             ],
             [
              0.1111111111111111,
              "#46039f"
             ],
             [
              0.2222222222222222,
              "#7201a8"
             ],
             [
              0.3333333333333333,
              "#9c179e"
             ],
             [
              0.4444444444444444,
              "#bd3786"
             ],
             [
              0.5555555555555556,
              "#d8576b"
             ],
             [
              0.6666666666666666,
              "#ed7953"
             ],
             [
              0.7777777777777778,
              "#fb9f3a"
             ],
             [
              0.8888888888888888,
              "#fdca26"
             ],
             [
              1,
              "#f0f921"
             ]
            ],
            "type": "heatmap"
           }
          ],
          "heatmapgl": [
           {
            "colorbar": {
             "outlinewidth": 0,
             "ticks": ""
            },
            "colorscale": [
             [
              0,
              "#0d0887"
             ],
             [
              0.1111111111111111,
              "#46039f"
             ],
             [
              0.2222222222222222,
              "#7201a8"
             ],
             [
              0.3333333333333333,
              "#9c179e"
             ],
             [
              0.4444444444444444,
              "#bd3786"
             ],
             [
              0.5555555555555556,
              "#d8576b"
             ],
             [
              0.6666666666666666,
              "#ed7953"
             ],
             [
              0.7777777777777778,
              "#fb9f3a"
             ],
             [
              0.8888888888888888,
              "#fdca26"
             ],
             [
              1,
              "#f0f921"
             ]
            ],
            "type": "heatmapgl"
           }
          ],
          "histogram": [
           {
            "marker": {
             "pattern": {
              "fillmode": "overlay",
              "size": 10,
              "solidity": 0.2
             }
            },
            "type": "histogram"
           }
          ],
          "histogram2d": [
           {
            "colorbar": {
             "outlinewidth": 0,
             "ticks": ""
            },
            "colorscale": [
             [
              0,
              "#0d0887"
             ],
             [
              0.1111111111111111,
              "#46039f"
             ],
             [
              0.2222222222222222,
              "#7201a8"
             ],
             [
              0.3333333333333333,
              "#9c179e"
             ],
             [
              0.4444444444444444,
              "#bd3786"
             ],
             [
              0.5555555555555556,
              "#d8576b"
             ],
             [
              0.6666666666666666,
              "#ed7953"
             ],
             [
              0.7777777777777778,
              "#fb9f3a"
             ],
             [
              0.8888888888888888,
              "#fdca26"
             ],
             [
              1,
              "#f0f921"
             ]
            ],
            "type": "histogram2d"
           }
          ],
          "histogram2dcontour": [
           {
            "colorbar": {
             "outlinewidth": 0,
             "ticks": ""
            },
            "colorscale": [
             [
              0,
              "#0d0887"
             ],
             [
              0.1111111111111111,
              "#46039f"
             ],
             [
              0.2222222222222222,
              "#7201a8"
             ],
             [
              0.3333333333333333,
              "#9c179e"
             ],
             [
              0.4444444444444444,
              "#bd3786"
             ],
             [
              0.5555555555555556,
              "#d8576b"
             ],
             [
              0.6666666666666666,
              "#ed7953"
             ],
             [
              0.7777777777777778,
              "#fb9f3a"
             ],
             [
              0.8888888888888888,
              "#fdca26"
             ],
             [
              1,
              "#f0f921"
             ]
            ],
            "type": "histogram2dcontour"
           }
          ],
          "mesh3d": [
           {
            "colorbar": {
             "outlinewidth": 0,
             "ticks": ""
            },
            "type": "mesh3d"
           }
          ],
          "parcoords": [
           {
            "line": {
             "colorbar": {
              "outlinewidth": 0,
              "ticks": ""
             }
            },
            "type": "parcoords"
           }
          ],
          "pie": [
           {
            "automargin": true,
            "type": "pie"
           }
          ],
          "scatter": [
           {
            "marker": {
             "colorbar": {
              "outlinewidth": 0,
              "ticks": ""
             }
            },
            "type": "scatter"
           }
          ],
          "scatter3d": [
           {
            "line": {
             "colorbar": {
              "outlinewidth": 0,
              "ticks": ""
             }
            },
            "marker": {
             "colorbar": {
              "outlinewidth": 0,
              "ticks": ""
             }
            },
            "type": "scatter3d"
           }
          ],
          "scattercarpet": [
           {
            "marker": {
             "colorbar": {
              "outlinewidth": 0,
              "ticks": ""
             }
            },
            "type": "scattercarpet"
           }
          ],
          "scattergeo": [
           {
            "marker": {
             "colorbar": {
              "outlinewidth": 0,
              "ticks": ""
             }
            },
            "type": "scattergeo"
           }
          ],
          "scattergl": [
           {
            "marker": {
             "colorbar": {
              "outlinewidth": 0,
              "ticks": ""
             }
            },
            "type": "scattergl"
           }
          ],
          "scattermapbox": [
           {
            "marker": {
             "colorbar": {
              "outlinewidth": 0,
              "ticks": ""
             }
            },
            "type": "scattermapbox"
           }
          ],
          "scatterpolar": [
           {
            "marker": {
             "colorbar": {
              "outlinewidth": 0,
              "ticks": ""
             }
            },
            "type": "scatterpolar"
           }
          ],
          "scatterpolargl": [
           {
            "marker": {
             "colorbar": {
              "outlinewidth": 0,
              "ticks": ""
             }
            },
            "type": "scatterpolargl"
           }
          ],
          "scatterternary": [
           {
            "marker": {
             "colorbar": {
              "outlinewidth": 0,
              "ticks": ""
             }
            },
            "type": "scatterternary"
           }
          ],
          "surface": [
           {
            "colorbar": {
             "outlinewidth": 0,
             "ticks": ""
            },
            "colorscale": [
             [
              0,
              "#0d0887"
             ],
             [
              0.1111111111111111,
              "#46039f"
             ],
             [
              0.2222222222222222,
              "#7201a8"
             ],
             [
              0.3333333333333333,
              "#9c179e"
             ],
             [
              0.4444444444444444,
              "#bd3786"
             ],
             [
              0.5555555555555556,
              "#d8576b"
             ],
             [
              0.6666666666666666,
              "#ed7953"
             ],
             [
              0.7777777777777778,
              "#fb9f3a"
             ],
             [
              0.8888888888888888,
              "#fdca26"
             ],
             [
              1,
              "#f0f921"
             ]
            ],
            "type": "surface"
           }
          ],
          "table": [
           {
            "cells": {
             "fill": {
              "color": "#EBF0F8"
             },
             "line": {
              "color": "white"
             }
            },
            "header": {
             "fill": {
              "color": "#C8D4E3"
             },
             "line": {
              "color": "white"
             }
            },
            "type": "table"
           }
          ]
         },
         "layout": {
          "annotationdefaults": {
           "arrowcolor": "#2a3f5f",
           "arrowhead": 0,
           "arrowwidth": 1
          },
          "autotypenumbers": "strict",
          "coloraxis": {
           "colorbar": {
            "outlinewidth": 0,
            "ticks": ""
           }
          },
          "colorscale": {
           "diverging": [
            [
             0,
             "#8e0152"
            ],
            [
             0.1,
             "#c51b7d"
            ],
            [
             0.2,
             "#de77ae"
            ],
            [
             0.3,
             "#f1b6da"
            ],
            [
             0.4,
             "#fde0ef"
            ],
            [
             0.5,
             "#f7f7f7"
            ],
            [
             0.6,
             "#e6f5d0"
            ],
            [
             0.7,
             "#b8e186"
            ],
            [
             0.8,
             "#7fbc41"
            ],
            [
             0.9,
             "#4d9221"
            ],
            [
             1,
             "#276419"
            ]
           ],
           "sequential": [
            [
             0,
             "#0d0887"
            ],
            [
             0.1111111111111111,
             "#46039f"
            ],
            [
             0.2222222222222222,
             "#7201a8"
            ],
            [
             0.3333333333333333,
             "#9c179e"
            ],
            [
             0.4444444444444444,
             "#bd3786"
            ],
            [
             0.5555555555555556,
             "#d8576b"
            ],
            [
             0.6666666666666666,
             "#ed7953"
            ],
            [
             0.7777777777777778,
             "#fb9f3a"
            ],
            [
             0.8888888888888888,
             "#fdca26"
            ],
            [
             1,
             "#f0f921"
            ]
           ],
           "sequentialminus": [
            [
             0,
             "#0d0887"
            ],
            [
             0.1111111111111111,
             "#46039f"
            ],
            [
             0.2222222222222222,
             "#7201a8"
            ],
            [
             0.3333333333333333,
             "#9c179e"
            ],
            [
             0.4444444444444444,
             "#bd3786"
            ],
            [
             0.5555555555555556,
             "#d8576b"
            ],
            [
             0.6666666666666666,
             "#ed7953"
            ],
            [
             0.7777777777777778,
             "#fb9f3a"
            ],
            [
             0.8888888888888888,
             "#fdca26"
            ],
            [
             1,
             "#f0f921"
            ]
           ]
          },
          "colorway": [
           "#636efa",
           "#EF553B",
           "#00cc96",
           "#ab63fa",
           "#FFA15A",
           "#19d3f3",
           "#FF6692",
           "#B6E880",
           "#FF97FF",
           "#FECB52"
          ],
          "font": {
           "color": "#2a3f5f"
          },
          "geo": {
           "bgcolor": "white",
           "lakecolor": "white",
           "landcolor": "#E5ECF6",
           "showlakes": true,
           "showland": true,
           "subunitcolor": "white"
          },
          "hoverlabel": {
           "align": "left"
          },
          "hovermode": "closest",
          "mapbox": {
           "style": "light"
          },
          "paper_bgcolor": "white",
          "plot_bgcolor": "#E5ECF6",
          "polar": {
           "angularaxis": {
            "gridcolor": "white",
            "linecolor": "white",
            "ticks": ""
           },
           "bgcolor": "#E5ECF6",
           "radialaxis": {
            "gridcolor": "white",
            "linecolor": "white",
            "ticks": ""
           }
          },
          "scene": {
           "xaxis": {
            "backgroundcolor": "#E5ECF6",
            "gridcolor": "white",
            "gridwidth": 2,
            "linecolor": "white",
            "showbackground": true,
            "ticks": "",
            "zerolinecolor": "white"
           },
           "yaxis": {
            "backgroundcolor": "#E5ECF6",
            "gridcolor": "white",
            "gridwidth": 2,
            "linecolor": "white",
            "showbackground": true,
            "ticks": "",
            "zerolinecolor": "white"
           },
           "zaxis": {
            "backgroundcolor": "#E5ECF6",
            "gridcolor": "white",
            "gridwidth": 2,
            "linecolor": "white",
            "showbackground": true,
            "ticks": "",
            "zerolinecolor": "white"
           }
          },
          "shapedefaults": {
           "line": {
            "color": "#2a3f5f"
           }
          },
          "ternary": {
           "aaxis": {
            "gridcolor": "white",
            "linecolor": "white",
            "ticks": ""
           },
           "baxis": {
            "gridcolor": "white",
            "linecolor": "white",
            "ticks": ""
           },
           "bgcolor": "#E5ECF6",
           "caxis": {
            "gridcolor": "white",
            "linecolor": "white",
            "ticks": ""
           }
          },
          "title": {
           "x": 0.05
          },
          "xaxis": {
           "automargin": true,
           "gridcolor": "white",
           "linecolor": "white",
           "ticks": "",
           "title": {
            "standoff": 15
           },
           "zerolinecolor": "white",
           "zerolinewidth": 2
          },
          "yaxis": {
           "automargin": true,
           "gridcolor": "white",
           "linecolor": "white",
           "ticks": "",
           "title": {
            "standoff": 15
           },
           "zerolinecolor": "white",
           "zerolinewidth": 2
          }
         }
        },
        "title": {
         "text": "Event funnel",
         "x": 0.5
        },
        "xaxis": {
         "autorange": true,
         "range": [
          -4121.666666666667,
          4121.666666666667
         ],
         "type": "linear"
        },
        "yaxis": {
         "autorange": true,
         "range": [
          3.5,
          -0.5
         ],
         "type": "category"
        }
       }
      },
      "image/png": "[encoded data removed]",
      "text/html": [
       "<div>                            <div id=\"95c78045-48b3-4e9b-b2d1-a9c4f558c1b6\" class=\"plotly-graph-div\" style=\"height:525px; width:100%;\"></div>            <script type=\"text/javascript\">                require([\"plotly\"], function(Plotly) {                    window.PLOTLYENV=window.PLOTLYENV || {};                                    if (document.getElementById(\"95c78045-48b3-4e9b-b2d1-a9c4f558c1b6\")) {                    Plotly.newPlot(                        \"95c78045-48b3-4e9b-b2d1-a9c4f558c1b6\",                        [{\"connector\":{\"line\":{\"color\":\"royalblue\",\"dash\":\"dot\",\"width\":3}},\"marker\":{\"color\":[\"deepskyblue\",\"salmon\",\"tan\",\"teal\",\"silver\"],\"line\":{\"color\":[\"wheat\",\"wheat\",\"blue\",\"wheat\",\"wheat\"],\"width\":[4,2,2,3,1,1]}},\"opacity\":0.65,\"textinfo\":\"value+percent initial\",\"textposition\":\"inside\",\"x\":[7419,4593,3734,3539],\"y\":[\"MainScreenAppear\",\"OffersScreenAppear\",\"CartScreenAppear\",\"PaymentScreenSuccessful\"],\"type\":\"funnel\"}],                        {\"template\":{\"data\":{\"bar\":[{\"error_x\":{\"color\":\"#2a3f5f\"},\"error_y\":{\"color\":\"#2a3f5f\"},\"marker\":{\"line\":{\"color\":\"#E5ECF6\",\"width\":0.5},\"pattern\":{\"fillmode\":\"overlay\",\"size\":10,\"solidity\":0.2}},\"type\":\"bar\"}],\"barpolar\":[{\"marker\":{\"line\":{\"color\":\"#E5ECF6\",\"width\":0.5},\"pattern\":{\"fillmode\":\"overlay\",\"size\":10,\"solidity\":0.2}},\"type\":\"barpolar\"}],\"carpet\":[{\"aaxis\":{\"endlinecolor\":\"#2a3f5f\",\"gridcolor\":\"white\",\"linecolor\":\"white\",\"minorgridcolor\":\"white\",\"startlinecolor\":\"#2a3f5f\"},\"baxis\":{\"endlinecolor\":\"#2a3f5f\",\"gridcolor\":\"white\",\"linecolor\":\"white\",\"minorgridcolor\":\"white\",\"startlinecolor\":\"#2a3f5f\"},\"type\":\"carpet\"}],\"choropleth\":[{\"colorbar\":{\"outlinewidth\":0,\"ticks\":\"\"},\"type\":\"choropleth\"}],\"contour\":[{\"colorbar\":{\"outlinewidth\":0,\"ticks\":\"\"},\"colorscale\":[[0.0,\"#0d0887\"],[0.1111111111111111,\"#46039f\"],[0.2222222222222222,\"#7201a8\"],[0.3333333333333333,\"#9c179e\"],[0.4444444444444444,\"#bd3786\"],[0.5555555555555556,\"#d8576b\"],[0.6666666666666666,\"#ed7953\"],[0.7777777777777778,\"#fb9f3a\"],[0.8888888888888888,\"#fdca26\"],[1.0,\"#f0f921\"]],\"type\":\"contour\"}],\"contourcarpet\":[{\"colorbar\":{\"outlinewidth\":0,\"ticks\":\"\"},\"type\":\"contourcarpet\"}],\"heatmap\":[{\"colorbar\":{\"outlinewidth\":0,\"ticks\":\"\"},\"colorscale\":[[0.0,\"#0d0887\"],[0.1111111111111111,\"#46039f\"],[0.2222222222222222,\"#7201a8\"],[0.3333333333333333,\"#9c179e\"],[0.4444444444444444,\"#bd3786\"],[0.5555555555555556,\"#d8576b\"],[0.6666666666666666,\"#ed7953\"],[0.7777777777777778,\"#fb9f3a\"],[0.8888888888888888,\"#fdca26\"],[1.0,\"#f0f921\"]],\"type\":\"heatmap\"}],\"heatmapgl\":[{\"colorbar\":{\"outlinewidth\":0,\"ticks\":\"\"},\"colorscale\":[[0.0,\"#0d0887\"],[0.1111111111111111,\"#46039f\"],[0.2222222222222222,\"#7201a8\"],[0.3333333333333333,\"#9c179e\"],[0.4444444444444444,\"#bd3786\"],[0.5555555555555556,\"#d8576b\"],[0.6666666666666666,\"#ed7953\"],[0.7777777777777778,\"#fb9f3a\"],[0.8888888888888888,\"#fdca26\"],[1.0,\"#f0f921\"]],\"type\":\"heatmapgl\"}],\"histogram\":[{\"marker\":{\"pattern\":{\"fillmode\":\"overlay\",\"size\":10,\"solidity\":0.2}},\"type\":\"histogram\"}],\"histogram2d\":[{\"colorbar\":{\"outlinewidth\":0,\"ticks\":\"\"},\"colorscale\":[[0.0,\"#0d0887\"],[0.1111111111111111,\"#46039f\"],[0.2222222222222222,\"#7201a8\"],[0.3333333333333333,\"#9c179e\"],[0.4444444444444444,\"#bd3786\"],[0.5555555555555556,\"#d8576b\"],[0.6666666666666666,\"#ed7953\"],[0.7777777777777778,\"#fb9f3a\"],[0.8888888888888888,\"#fdca26\"],[1.0,\"#f0f921\"]],\"type\":\"histogram2d\"}],\"histogram2dcontour\":[{\"colorbar\":{\"outlinewidth\":0,\"ticks\":\"\"},\"colorscale\":[[0.0,\"#0d0887\"],[0.1111111111111111,\"#46039f\"],[0.2222222222222222,\"#7201a8\"],[0.3333333333333333,\"#9c179e\"],[0.4444444444444444,\"#bd3786\"],[0.5555555555555556,\"#d8576b\"],[0.6666666666666666,\"#ed7953\"],[0.7777777777777778,\"#fb9f3a\"],[0.8888888888888888,\"#fdca26\"],[1.0,\"#f0f921\"]],\"type\":\"histogram2dcontour\"}],\"mesh3d\":[{\"colorbar\":{\"outlinewidth\":0,\"ticks\":\"\"},\"type\":\"mesh3d\"}],\"parcoords\":[{\"line\":{\"colorbar\":{\"outlinewidth\":0,\"ticks\":\"\"}},\"type\":\"parcoords\"}],\"pie\":[{\"automargin\":true,\"type\":\"pie\"}],\"scatter\":[{\"marker\":{\"colorbar\":{\"outlinewidth\":0,\"ticks\":\"\"}},\"type\":\"scatter\"}],\"scatter3d\":[{\"line\":{\"colorbar\":{\"outlinewidth\":0,\"ticks\":\"\"}},\"marker\":{\"colorbar\":{\"outlinewidth\":0,\"ticks\":\"\"}},\"type\":\"scatter3d\"}],\"scattercarpet\":[{\"marker\":{\"colorbar\":{\"outlinewidth\":0,\"ticks\":\"\"}},\"type\":\"scattercarpet\"}],\"scattergeo\":[{\"marker\":{\"colorbar\":{\"outlinewidth\":0,\"ticks\":\"\"}},\"type\":\"scattergeo\"}],\"scattergl\":[{\"marker\":{\"colorbar\":{\"outlinewidth\":0,\"ticks\":\"\"}},\"type\":\"scattergl\"}],\"scattermapbox\":[{\"marker\":{\"colorbar\":{\"outlinewidth\":0,\"ticks\":\"\"}},\"type\":\"scattermapbox\"}],\"scatterpolar\":[{\"marker\":{\"colorbar\":{\"outlinewidth\":0,\"ticks\":\"\"}},\"type\":\"scatterpolar\"}],\"scatterpolargl\":[{\"marker\":{\"colorbar\":{\"outlinewidth\":0,\"ticks\":\"\"}},\"type\":\"scatterpolargl\"}],\"scatterternary\":[{\"marker\":{\"colorbar\":{\"outlinewidth\":0,\"ticks\":\"\"}},\"type\":\"scatterternary\"}],\"surface\":[{\"colorbar\":{\"outlinewidth\":0,\"ticks\":\"\"},\"colorscale\":[[0.0,\"#0d0887\"],[0.1111111111111111,\"#46039f\"],[0.2222222222222222,\"#7201a8\"],[0.3333333333333333,\"#9c179e\"],[0.4444444444444444,\"#bd3786\"],[0.5555555555555556,\"#d8576b\"],[0.6666666666666666,\"#ed7953\"],[0.7777777777777778,\"#fb9f3a\"],[0.8888888888888888,\"#fdca26\"],[1.0,\"#f0f921\"]],\"type\":\"surface\"}],\"table\":[{\"cells\":{\"fill\":{\"color\":\"#EBF0F8\"},\"line\":{\"color\":\"white\"}},\"header\":{\"fill\":{\"color\":\"#C8D4E3\"},\"line\":{\"color\":\"white\"}},\"type\":\"table\"}]},\"layout\":{\"annotationdefaults\":{\"arrowcolor\":\"#2a3f5f\",\"arrowhead\":0,\"arrowwidth\":1},\"autotypenumbers\":\"strict\",\"coloraxis\":{\"colorbar\":{\"outlinewidth\":0,\"ticks\":\"\"}},\"colorscale\":{\"diverging\":[[0,\"#8e0152\"],[0.1,\"#c51b7d\"],[0.2,\"#de77ae\"],[0.3,\"#f1b6da\"],[0.4,\"#fde0ef\"],[0.5,\"#f7f7f7\"],[0.6,\"#e6f5d0\"],[0.7,\"#b8e186\"],[0.8,\"#7fbc41\"],[0.9,\"#4d9221\"],[1,\"#276419\"]],\"sequential\":[[0.0,\"#0d0887\"],[0.1111111111111111,\"#46039f\"],[0.2222222222222222,\"#7201a8\"],[0.3333333333333333,\"#9c179e\"],[0.4444444444444444,\"#bd3786\"],[0.5555555555555556,\"#d8576b\"],[0.6666666666666666,\"#ed7953\"],[0.7777777777777778,\"#fb9f3a\"],[0.8888888888888888,\"#fdca26\"],[1.0,\"#f0f921\"]],\"sequentialminus\":[[0.0,\"#0d0887\"],[0.1111111111111111,\"#46039f\"],[0.2222222222222222,\"#7201a8\"],[0.3333333333333333,\"#9c179e\"],[0.4444444444444444,\"#bd3786\"],[0.5555555555555556,\"#d8576b\"],[0.6666666666666666,\"#ed7953\"],[0.7777777777777778,\"#fb9f3a\"],[0.8888888888888888,\"#fdca26\"],[1.0,\"#f0f921\"]]},\"colorway\":[\"#636efa\",\"#EF553B\",\"#00cc96\",\"#ab63fa\",\"#FFA15A\",\"#19d3f3\",\"#FF6692\",\"#B6E880\",\"#FF97FF\",\"#FECB52\"],\"font\":{\"color\":\"#2a3f5f\"},\"geo\":{\"bgcolor\":\"white\",\"lakecolor\":\"white\",\"landcolor\":\"#E5ECF6\",\"showlakes\":true,\"showland\":true,\"subunitcolor\":\"white\"},\"hoverlabel\":{\"align\":\"left\"},\"hovermode\":\"closest\",\"mapbox\":{\"style\":\"light\"},\"paper_bgcolor\":\"white\",\"plot_bgcolor\":\"#E5ECF6\",\"polar\":{\"angularaxis\":{\"gridcolor\":\"white\",\"linecolor\":\"white\",\"ticks\":\"\"},\"bgcolor\":\"#E5ECF6\",\"radialaxis\":{\"gridcolor\":\"white\",\"linecolor\":\"white\",\"ticks\":\"\"}},\"scene\":{\"xaxis\":{\"backgroundcolor\":\"#E5ECF6\",\"gridcolor\":\"white\",\"gridwidth\":2,\"linecolor\":\"white\",\"showbackground\":true,\"ticks\":\"\",\"zerolinecolor\":\"white\"},\"yaxis\":{\"backgroundcolor\":\"#E5ECF6\",\"gridcolor\":\"white\",\"gridwidth\":2,\"linecolor\":\"white\",\"showbackground\":true,\"ticks\":\"\",\"zerolinecolor\":\"white\"},\"zaxis\":{\"backgroundcolor\":\"#E5ECF6\",\"gridcolor\":\"white\",\"gridwidth\":2,\"linecolor\":\"white\",\"showbackground\":true,\"ticks\":\"\",\"zerolinecolor\":\"white\"}},\"shapedefaults\":{\"line\":{\"color\":\"#2a3f5f\"}},\"ternary\":{\"aaxis\":{\"gridcolor\":\"white\",\"linecolor\":\"white\",\"ticks\":\"\"},\"baxis\":{\"gridcolor\":\"white\",\"linecolor\":\"white\",\"ticks\":\"\"},\"bgcolor\":\"#E5ECF6\",\"caxis\":{\"gridcolor\":\"white\",\"linecolor\":\"white\",\"ticks\":\"\"}},\"title\":{\"x\":0.05},\"xaxis\":{\"automargin\":true,\"gridcolor\":\"white\",\"linecolor\":\"white\",\"ticks\":\"\",\"title\":{\"standoff\":15},\"zerolinecolor\":\"white\",\"zerolinewidth\":2},\"yaxis\":{\"automargin\":true,\"gridcolor\":\"white\",\"linecolor\":\"white\",\"ticks\":\"\",\"title\":{\"standoff\":15},\"zerolinecolor\":\"white\",\"zerolinewidth\":2}}},\"title\":{\"text\":\"Event funnel\",\"x\":0.5}},                        {\"responsive\": true}                    ).then(function(){\n",
       "                            \n",
       "var gd = document.getElementById('95c78045-48b3-4e9b-b2d1-a9c4f558c1b6');\n",
       "var x = new MutationObserver(function (mutations, observer) {{\n",
       "        var display = window.getComputedStyle(gd).display;\n",
       "        if (!display || display === 'none') {{\n",
       "            console.log([gd, 'removed!']);\n",
       "            Plotly.purge(gd);\n",
       "            observer.disconnect();\n",
       "        }}\n",
       "}});\n",
       "\n",
       "// Listen for the removal of the full notebook cells\n",
       "var notebookContainer = gd.closest('#notebook-container');\n",
       "if (notebookContainer) {{\n",
       "    x.observe(notebookContainer, {childList: true});\n",
       "}}\n",
       "\n",
       "// Listen for the clearing of the current output cell\n",
       "var outputEl = gd.closest('.output');\n",
       "if (outputEl) {{\n",
       "    x.observe(outputEl, {childList: true});\n",
       "}}\n",
       "\n",
       "                        })                };                });            </script>        </div>"
      ]
     },
     "metadata": {},
     "output_type": "display_data"
    }
   ],
   "source": [
    "from plotly import graph_objects as go\n",
    "\n",
    "event_per_user.reset_index(inplace=True)\n",
    "\n",
    "fig = go.Figure(go.Funnel(\n",
    "    y = event_per_user['event_name'],\n",
    "    x = event_per_user['device_id'],\n",
    "    textposition = \"inside\",\n",
    "    textinfo = \"value+percent initial\",\n",
    "    opacity = 0.65, marker = {\"color\": [\"deepskyblue\", \"salmon\", \"tan\", \"teal\", \"silver\"],\n",
    "    \"line\": {\"width\": [4, 2, 2, 3, 1, 1], \"color\": [\"wheat\", \"wheat\", \"blue\", \"wheat\", \"wheat\"]}},\n",
    "    connector = {\"line\": {\"color\": \"royalblue\", \"dash\": \"dot\", \"width\": 3}})\n",
    "    )\n",
    "fig.update_layout(title='Event funnel', title_x = 0.5);\n",
    "fig.show()"
   ]
  },
  {
   "cell_type": "markdown",
   "id": "a179ab48-a521-4ac4-ba38-f3a712df5fab",
   "metadata": {},
   "source": [
    "**Conclusion from studying the event funnel:**\n",
    "\n",
    "There are 5 events in the log, the most frequent: MainScreenAppear, then OffersScreenAppear and the rarest - Tutorial.\n",
    "\n",
    "Sequence of events by frequency performed by users:\n",
    "\n",
    "1. Main Screen Appear\n",
    "2. Offers Screen Appear\n",
    "3. Cart Screen Appear\n",
    "4. Payment Screen Appear\n",
    "5. Tutorial\n",
    "\n",
    "A certain funnel of events is taking shape. Tutorial is not the last step in this funnel, but is most likely used only in rare cases.\n",
    "\n",
    "Most users are lost from the MainScreenAppear step to OffersScreenAppear, only 61.91% move on to the next step.\n",
    "\n",
    "81.30% of users switch from the OffersScreenAppear step to CartScreenAppear.\n",
    "\n",
    "From CartScreenAppear to PaymentScreenSuccessful 94.78%. Which shows good conversion at this step.\n",
    "\n",
    "Share of users moving from the first event to payment: 47.7%"
   ]
  },
  {
   "cell_type": "markdown",
   "id": "11722344-b5b5-48f2-aa21-758ce3793004",
   "metadata": {},
   "source": [
    "## Check the results of the experiment"
   ]
  },
  {
   "cell_type": "markdown",
   "id": "b8d21ad3-b0ce-49b5-9df8-4cf7df25582f",
   "metadata": {},
   "source": [
    "### Let's study how many users are in each experimental group"
   ]
  },
  {
   "cell_type": "code",
   "execution_count": 57,
   "id": "d8600592-08e2-4e4a-b607-cb96467db52c",
   "metadata": {},
   "outputs": [
    {
     "data": {
      "text/html": [
       "<div>\n",
       "<style scoped>\n",
       "    .dataframe tbody tr th:only-of-type {\n",
       "        vertical-align: middle;\n",
       "    }\n",
       "\n",
       "    .dataframe tbody tr th {\n",
       "        vertical-align: top;\n",
       "    }\n",
       "\n",
       "    .dataframe thead th {\n",
       "        text-align: right;\n",
       "    }\n",
       "</style>\n",
       "<table border=\"1\" class=\"dataframe\">\n",
       "  <thead>\n",
       "    <tr style=\"text-align: right;\">\n",
       "      <th></th>\n",
       "      <th>Total_users</th>\n",
       "    </tr>\n",
       "    <tr>\n",
       "      <th>exp_id</th>\n",
       "      <th></th>\n",
       "    </tr>\n",
       "  </thead>\n",
       "  <tbody>\n",
       "    <tr>\n",
       "      <th>246</th>\n",
       "      <td>2484</td>\n",
       "    </tr>\n",
       "    <tr>\n",
       "      <th>247</th>\n",
       "      <td>2513</td>\n",
       "    </tr>\n",
       "    <tr>\n",
       "      <th>248</th>\n",
       "      <td>2537</td>\n",
       "    </tr>\n",
       "  </tbody>\n",
       "</table>\n",
       "</div>"
      ],
      "text/plain": [
       "        Total_users\n",
       "exp_id             \n",
       "246            2484\n",
       "247            2513\n",
       "248            2537"
      ]
     },
     "execution_count": 57,
     "metadata": {},
     "output_type": "execute_result"
    }
   ],
   "source": [
    "# Analyze the number of users in each group\n",
    "users_grouped = logs_date_fltr.pivot_table(index='exp_id', values='device_id',aggfunc='nunique')\n",
    "users_grouped.columns = ['Total_users']\n",
    "users_grouped"
   ]
  },
  {
   "cell_type": "code",
   "execution_count": 58,
   "id": "4cf6841d-9d09-45b3-baca-49408e76265c",
   "metadata": {},
   "outputs": [
    {
     "data": {
      "text/plain": [
       "exp_id    0\n",
       "dtype: int64"
      ]
     },
     "execution_count": 58,
     "metadata": {},
     "output_type": "execute_result"
    }
   ],
   "source": [
    "# Analyze the probability of users falling into both groups\n",
    "logs_date_fltr.groupby('device_id').agg({'exp_id' : 'nunique'}).query('exp_id>1').count()"
   ]
  },
  {
   "cell_type": "markdown",
   "id": "2b457a25-06fd-4378-b12f-1b327d7305ee",
   "metadata": {},
   "source": [
    "### Count the number of users who completed the event in each of the control groups"
   ]
  },
  {
   "cell_type": "code",
   "execution_count": 40,
   "id": "0c8d6c81-5586-4a90-8bdf-aec05671881c",
   "metadata": {},
   "outputs": [
    {
     "data": {
      "text/html": [
       "<div>\n",
       "<style scoped>\n",
       "    .dataframe tbody tr th:only-of-type {\n",
       "        vertical-align: middle;\n",
       "    }\n",
       "\n",
       "    .dataframe tbody tr th {\n",
       "        vertical-align: top;\n",
       "    }\n",
       "\n",
       "    .dataframe thead th {\n",
       "        text-align: right;\n",
       "    }\n",
       "</style>\n",
       "<table border=\"1\" class=\"dataframe\">\n",
       "  <thead>\n",
       "    <tr style=\"text-align: right;\">\n",
       "      <th></th>\n",
       "      <th>CartScreenAppear</th>\n",
       "      <th>MainScreenAppear</th>\n",
       "      <th>OffersScreenAppear</th>\n",
       "      <th>PaymentScreenSuccessful</th>\n",
       "      <th>Total_users</th>\n",
       "    </tr>\n",
       "    <tr>\n",
       "      <th>exp_id</th>\n",
       "      <th></th>\n",
       "      <th></th>\n",
       "      <th></th>\n",
       "      <th></th>\n",
       "      <th></th>\n",
       "    </tr>\n",
       "  </thead>\n",
       "  <tbody>\n",
       "    <tr>\n",
       "      <th>246</th>\n",
       "      <td>1266</td>\n",
       "      <td>2450</td>\n",
       "      <td>1542</td>\n",
       "      <td>1200</td>\n",
       "      <td>2484</td>\n",
       "    </tr>\n",
       "    <tr>\n",
       "      <th>247</th>\n",
       "      <td>1238</td>\n",
       "      <td>2476</td>\n",
       "      <td>1520</td>\n",
       "      <td>1158</td>\n",
       "      <td>2513</td>\n",
       "    </tr>\n",
       "    <tr>\n",
       "      <th>248</th>\n",
       "      <td>1230</td>\n",
       "      <td>2493</td>\n",
       "      <td>1531</td>\n",
       "      <td>1181</td>\n",
       "      <td>2537</td>\n",
       "    </tr>\n",
       "  </tbody>\n",
       "</table>\n",
       "</div>"
      ],
      "text/plain": [
       "        CartScreenAppear  MainScreenAppear  OffersScreenAppear  \\\n",
       "exp_id                                                           \n",
       "246                 1266              2450                1542   \n",
       "247                 1238              2476                1520   \n",
       "248                 1230              2493                1531   \n",
       "\n",
       "        PaymentScreenSuccessful  Total_users  \n",
       "exp_id                                        \n",
       "246                        1200         2484  \n",
       "247                        1158         2513  \n",
       "248                        1181         2537  "
      ]
     },
     "execution_count": 40,
     "metadata": {},
     "output_type": "execute_result"
    }
   ],
   "source": [
    "users_grouped_action = logs_date_fltr.pivot_table(\n",
    "    index='exp_id', \n",
    "    columns = 'event_name',\n",
    "    values='device_id',\n",
    "    aggfunc='nunique')\n",
    "\n",
    "users_grouped_action = users_grouped_action.drop(['Tutorial'], axis =1)\n",
    "users_grouped_action = users_grouped_action.merge(users_grouped, on='exp_id')\n",
    "users_grouped_action"
   ]
  },
  {
   "cell_type": "code",
   "execution_count": 70,
   "id": "a3cb3ea8-4a1e-47d0-b61e-62413285b450",
   "metadata": {},
   "outputs": [],
   "source": [
    "# Function to test hypotheses\n",
    "def stat_group_check(successes, trials, alpha):\n",
    "    p1 = successes[0]/trials[0]\n",
    "    p2 = successes[1]/trials[1]\n",
    "    p_combined = (successes[0] + successes[1]) / (trials[0] + trials[1])\n",
    "    difference = p1 - p2 \n",
    "    z_value = difference / math.sqrt(p_combined * (1 - p_combined) * (1/trials[0] + 1/trials[1]))\n",
    "    distr = st.norm(0, 1)  \n",
    "    p_value = (1 - distr.cdf(abs(z_value))) * 2\n",
    "    print('p-value: ', p_value)\n",
    "    if p_value < alpha:\n",
    "        print('We reject the null hypothesis: there is a significant difference between the shares')\n",
    "        print('')\n",
    "    else:\n",
    "        print('It was not possible to reject the null hypothesis; there is no reason to consider the shares to be different')\n",
    "        print('')"
   ]
  },
  {
   "cell_type": "code",
   "execution_count": 60,
   "id": "17e2f9fc-d858-498f-963a-8fbb5c179196",
   "metadata": {},
   "outputs": [],
   "source": [
    "# Function that receives as input the ordinal number of the group in the table and the alpha parameter, and returns the results of hypothesis testing\n",
    "def check_hypo(group1, group2, alpha):\n",
    "    alpha_test = alpha\n",
    "    actions = [\n",
    "        ('MainScreenAppear', 'count_MainScreenAppear'),\n",
    "        ('OffersScreenAppear', 'count_OffersScreenAppear'),\n",
    "        ('CartScreenAppear', 'count_CartScreenAppear'),\n",
    "        ('PaymentScreenSuccessful', 'count_PaymentScreenSuccessful')\n",
    "    ]\n",
    "\n",
    "    count_users = [users_grouped_action['Total_users'][group1], users_grouped_action['Total_users'][group2]]\n",
    "\n",
    "    for action_name, count_name in actions:\n",
    "        count_action = [users_grouped_action[action_name][group1], users_grouped_action[action_name][group2]]\n",
    "        print(f'Results for {action_name} and Total Users for groups:')\n",
    "        stat_group_check(count_action, count_users, alpha_test)"
   ]
  },
  {
   "cell_type": "markdown",
   "id": "da01ad72-c4bb-4092-9331-ca264c009cc6",
   "metadata": {},
   "source": [
    "**Hypotheses:**\n",
    "\n",
    "> Н0: The shares in the two groups (246 and 247) are equal\n",
    "\n",
    "> Н1: The shares in the two groups (246 and 247) are not equal"
   ]
  },
  {
   "cell_type": "code",
   "execution_count": 61,
   "id": "480de7e5-0641-41aa-95e8-12b271795c90",
   "metadata": {},
   "outputs": [
    {
     "name": "stdout",
     "output_type": "stream",
     "text": [
      "Results for MainScreenAppear and Total Users for groups:\n",
      "p-значение:  0.7570597232046099\n",
      "It was not possible to reject the null hypothesis; there is no reason to consider the shares to be different\n",
      "\n",
      "Results for OffersScreenAppear and Total Users for groups:\n",
      "p-значение:  0.2480954578522181\n",
      "It was not possible to reject the null hypothesis; there is no reason to consider the shares to be different\n",
      "\n",
      "Results for CartScreenAppear and Total Users for groups:\n",
      "p-значение:  0.22883372237997213\n",
      "It was not possible to reject the null hypothesis; there is no reason to consider the shares to be different\n",
      "\n",
      "Results for PaymentScreenSuccessful and Total Users for groups:\n",
      "p-значение:  0.11456679313141849\n",
      "It was not possible to reject the null hypothesis; there is no reason to consider the shares to be different\n",
      "\n"
     ]
    }
   ],
   "source": [
    "check_hypo(246, 247, 0.1)"
   ]
  },
  {
   "cell_type": "markdown",
   "id": "c492e515-b4be-4c22-9ed4-07b6c422fd42",
   "metadata": {},
   "source": [
    "**Conclusion:**\n",
    "\n",
    "> Н0 the hypothesis of equality of the two groups could not be rejected.\n",
    "There is no reason to consider the shares different."
   ]
  },
  {
   "cell_type": "markdown",
   "id": "923a41f4-9955-4683-acd0-55efa68016b5",
   "metadata": {},
   "source": [
    "### Compare the results with each of the control groups separately for each event. Compare the results with the combined control group"
   ]
  },
  {
   "cell_type": "code",
   "execution_count": 62,
   "id": "703b362e-db5f-4a3a-af47-6d48c2fca398",
   "metadata": {},
   "outputs": [
    {
     "name": "stdout",
     "output_type": "stream",
     "text": [
      "Results for MainScreenAppear and Total Users for groups:\n",
      "p-значение:  0.2949721933554552\n",
      "It was not possible to reject the null hypothesis; there is no reason to consider the shares to be different\n",
      "\n",
      "Results for OffersScreenAppear and Total Users for groups:\n",
      "p-значение:  0.20836205402738917\n",
      "It was not possible to reject the null hypothesis; there is no reason to consider the shares to be different\n",
      "\n",
      "Results for CartScreenAppear and Total Users for groups:\n",
      "p-значение:  0.07842923237520116\n",
      "We reject the null hypothesis: there is a significant difference between the shares\n",
      "\n",
      "Results for PaymentScreenSuccessful and Total Users for groups:\n",
      "p-значение:  0.2122553275697796\n",
      "It was not possible to reject the null hypothesis; there is no reason to consider the shares to be different\n",
      "\n"
     ]
    }
   ],
   "source": [
    "# Compare grpups 246 and 248\n",
    "check_hypo(246, 248, 0.1)"
   ]
  },
  {
   "cell_type": "code",
   "execution_count": 63,
   "id": "6b955f1b-6678-4f4b-adcb-d63571b126cd",
   "metadata": {},
   "outputs": [
    {
     "name": "stdout",
     "output_type": "stream",
     "text": [
      "In 246 group: 51.0 % users proceed to payment\n",
      "In 248 group: 48.0 % users proceed to payment\n"
     ]
    }
   ],
   "source": [
    "print('In 246 group:',round(users_grouped_action['CartScreenAppear'].iloc[0] / users_grouped_action['Total_users'].iloc[0],2)*100,'% users proceed to payment')\n",
    "print('In 248 group:',round(users_grouped_action['CartScreenAppear'].iloc[2] / users_grouped_action['Total_users'].iloc[2],2)*100, '% users proceed to payment')"
   ]
  },
  {
   "cell_type": "markdown",
   "id": "57d0175a-7a0a-4488-89cf-805e56c46624",
   "metadata": {},
   "source": [
    ">  **Due to the many chack ups of the hypothesis, we get 1 check wich decline Н0 hypothesis. Let use Bonferroni correction to correct alpha.**"
   ]
  },
  {
   "cell_type": "code",
   "execution_count": 64,
   "id": "42219f00-1427-440c-9c24-860289d0f819",
   "metadata": {},
   "outputs": [
    {
     "data": {
      "text/plain": [
       "0.00625"
      ]
     },
     "execution_count": 64,
     "metadata": {},
     "output_type": "execute_result"
    }
   ],
   "source": [
    "def bonferroni_correction(alpha, num_tests):\n",
    "    corrected_alpha = alpha / num_tests\n",
    "    return corrected_alpha\n",
    "\n",
    "total_users = len(logs_date_fltr['device_id'].unique())\n",
    "\n",
    "# Alpha\n",
    "overall_alpha = 0.1\n",
    "\n",
    "# Number of tests\n",
    "num_tests = len(event_per_user)*4\n",
    "\n",
    "# Bonferroni correction\n",
    "corrected_alpha = bonferroni_correction(overall_alpha, num_tests)\n",
    "\n",
    "corrected_alpha"
   ]
  },
  {
   "cell_type": "code",
   "execution_count": 65,
   "id": "b79be613-472a-4045-aafc-5bb0631d7db6",
   "metadata": {},
   "outputs": [
    {
     "name": "stdout",
     "output_type": "stream",
     "text": [
      "Results for MainScreenAppear and Total Users for groups:\n",
      "p-значение:  0.2949721933554552\n",
      "It was not possible to reject the null hypothesis; there is no reason to consider the shares to be different\n",
      "\n",
      "Results for OffersScreenAppear and Total Users for groups:\n",
      "p-значение:  0.20836205402738917\n",
      "It was not possible to reject the null hypothesis; there is no reason to consider the shares to be different\n",
      "\n",
      "Results for CartScreenAppear and Total Users for groups:\n",
      "p-значение:  0.07842923237520116\n",
      "It was not possible to reject the null hypothesis; there is no reason to consider the shares to be different\n",
      "\n",
      "Results for PaymentScreenSuccessful and Total Users for groups:\n",
      "p-значение:  0.2122553275697796\n",
      "It was not possible to reject the null hypothesis; there is no reason to consider the shares to be different\n",
      "\n"
     ]
    }
   ],
   "source": [
    "check_hypo(246, 248, 0.00625)"
   ]
  },
  {
   "cell_type": "markdown",
   "id": "e2e0a655-f8b1-4ab4-8484-e579c463c9af",
   "metadata": {},
   "source": [
    "After adjusting alpha using the Bonferroni method, it turned out that the null hypothesis could not be rejected."
   ]
  },
  {
   "cell_type": "code",
   "execution_count": 66,
   "id": "ca571dcb-a339-4793-a7ff-67b12722f74f",
   "metadata": {},
   "outputs": [
    {
     "name": "stdout",
     "output_type": "stream",
     "text": [
      "Results for MainScreenAppear and Total Users for groups:\n",
      "p-значение:  0.4587053616621515\n",
      "It was not possible to reject the null hypothesis; there is no reason to consider the shares to be different\n",
      "\n",
      "Results for OffersScreenAppear and Total Users for groups:\n",
      "p-значение:  0.9197817830592261\n",
      "It was not possible to reject the null hypothesis; there is no reason to consider the shares to be different\n",
      "\n",
      "Results for CartScreenAppear and Total Users for groups:\n",
      "p-значение:  0.5786197879539783\n",
      "It was not possible to reject the null hypothesis; there is no reason to consider the shares to be different\n",
      "\n",
      "Results for PaymentScreenSuccessful and Total Users for groups:\n",
      "p-значение:  0.7373415053803964\n",
      "It was not possible to reject the null hypothesis; there is no reason to consider the shares to be different\n",
      "\n"
     ]
    }
   ],
   "source": [
    "# Check groups 247 and 248\n",
    "check_hypo(247, 248, 0.00625)"
   ]
  },
  {
   "cell_type": "markdown",
   "id": "7710eebb-db01-4062-95b3-44ca39885ca7",
   "metadata": {},
   "source": [
    "> **Н0 the hypothesis of equality of the two samples could not be rejected. There is no reason to consider the shares different.**"
   ]
  },
  {
   "cell_type": "code",
   "execution_count": 49,
   "id": "50628e22-4933-45ae-9274-5856a0cc65dc",
   "metadata": {},
   "outputs": [
    {
     "data": {
      "text/html": [
       "<div>\n",
       "<style scoped>\n",
       "    .dataframe tbody tr th:only-of-type {\n",
       "        vertical-align: middle;\n",
       "    }\n",
       "\n",
       "    .dataframe tbody tr th {\n",
       "        vertical-align: top;\n",
       "    }\n",
       "\n",
       "    .dataframe thead th {\n",
       "        text-align: right;\n",
       "    }\n",
       "</style>\n",
       "<table border=\"1\" class=\"dataframe\">\n",
       "  <thead>\n",
       "    <tr style=\"text-align: right;\">\n",
       "      <th></th>\n",
       "      <th>CartScreenAppear</th>\n",
       "      <th>MainScreenAppear</th>\n",
       "      <th>OffersScreenAppear</th>\n",
       "      <th>PaymentScreenSuccessful</th>\n",
       "      <th>Total_users</th>\n",
       "    </tr>\n",
       "    <tr>\n",
       "      <th>exp_id</th>\n",
       "      <th></th>\n",
       "      <th></th>\n",
       "      <th></th>\n",
       "      <th></th>\n",
       "      <th></th>\n",
       "    </tr>\n",
       "  </thead>\n",
       "  <tbody>\n",
       "    <tr>\n",
       "      <th>246</th>\n",
       "      <td>1266</td>\n",
       "      <td>2450</td>\n",
       "      <td>1542</td>\n",
       "      <td>1200</td>\n",
       "      <td>2484</td>\n",
       "    </tr>\n",
       "    <tr>\n",
       "      <th>247</th>\n",
       "      <td>1238</td>\n",
       "      <td>2476</td>\n",
       "      <td>1520</td>\n",
       "      <td>1158</td>\n",
       "      <td>2513</td>\n",
       "    </tr>\n",
       "    <tr>\n",
       "      <th>248</th>\n",
       "      <td>1230</td>\n",
       "      <td>2493</td>\n",
       "      <td>1531</td>\n",
       "      <td>1181</td>\n",
       "      <td>2537</td>\n",
       "    </tr>\n",
       "    <tr>\n",
       "      <th>249</th>\n",
       "      <td>2504</td>\n",
       "      <td>4926</td>\n",
       "      <td>3062</td>\n",
       "      <td>2358</td>\n",
       "      <td>4997</td>\n",
       "    </tr>\n",
       "  </tbody>\n",
       "</table>\n",
       "</div>"
      ],
      "text/plain": [
       "        CartScreenAppear  MainScreenAppear  OffersScreenAppear  \\\n",
       "exp_id                                                           \n",
       "246                 1266              2450                1542   \n",
       "247                 1238              2476                1520   \n",
       "248                 1230              2493                1531   \n",
       "249                 2504              4926                3062   \n",
       "\n",
       "        PaymentScreenSuccessful  Total_users  \n",
       "exp_id                                        \n",
       "246                        1200         2484  \n",
       "247                        1158         2513  \n",
       "248                        1181         2537  \n",
       "249                        2358         4997  "
      ]
     },
     "execution_count": 49,
     "metadata": {},
     "output_type": "execute_result"
    }
   ],
   "source": [
    "# Results with a pooled control group\n",
    "users_grouped_action.loc[249] = users_grouped_action.iloc[0] + users_grouped_action.iloc[1]\n",
    "users_grouped_action"
   ]
  },
  {
   "cell_type": "code",
   "execution_count": 67,
   "id": "e6b93574-e567-4014-a46b-4bc493286a6a",
   "metadata": {},
   "outputs": [
    {
     "name": "stdout",
     "output_type": "stream",
     "text": [
      "Results for MainScreenAppear and Total Users for groups:\n",
      "p-значение:  0.29424526837179577\n",
      "It was not possible to reject the null hypothesis; there is no reason to consider the shares to be different\n",
      "\n",
      "Results for OffersScreenAppear and Total Users for groups:\n",
      "p-значение:  0.43425549655188256\n",
      "It was not possible to reject the null hypothesis; there is no reason to consider the shares to be different\n",
      "\n",
      "Results for CartScreenAppear and Total Users for groups:\n",
      "p-значение:  0.18175875284404386\n",
      "It was not possible to reject the null hypothesis; there is no reason to consider the shares to be different\n",
      "\n",
      "Results for PaymentScreenSuccessful and Total Users for groups:\n",
      "p-значение:  0.6004294282308704\n",
      "It was not possible to reject the null hypothesis; there is no reason to consider the shares to be different\n",
      "\n"
     ]
    }
   ],
   "source": [
    "check_hypo(249, 248, 0.00625)"
   ]
  },
  {
   "cell_type": "markdown",
   "id": "cb198dc6-cdff-401c-954c-c35a758b2194",
   "metadata": {},
   "source": [
    "> **Н0 the hypothesis of equality of the two samples could not be rejected. There is no reason to consider the shares different.**"
   ]
  },
  {
   "cell_type": "code",
   "execution_count": 51,
   "id": "95585d7a-d826-4ef0-827f-180aacf0a83b",
   "metadata": {},
   "outputs": [
    {
     "data": {
      "text/html": [
       "<div>\n",
       "<style scoped>\n",
       "    .dataframe tbody tr th:only-of-type {\n",
       "        vertical-align: middle;\n",
       "    }\n",
       "\n",
       "    .dataframe tbody tr th {\n",
       "        vertical-align: top;\n",
       "    }\n",
       "\n",
       "    .dataframe thead th {\n",
       "        text-align: right;\n",
       "    }\n",
       "</style>\n",
       "<table border=\"1\" class=\"dataframe\">\n",
       "  <thead>\n",
       "    <tr style=\"text-align: right;\">\n",
       "      <th></th>\n",
       "      <th>CartScreenAppear</th>\n",
       "      <th>MainScreenAppear</th>\n",
       "      <th>OffersScreenAppear</th>\n",
       "      <th>PaymentScreenSuccessful</th>\n",
       "      <th>Total_users</th>\n",
       "      <th>conversion</th>\n",
       "    </tr>\n",
       "    <tr>\n",
       "      <th>exp_id</th>\n",
       "      <th></th>\n",
       "      <th></th>\n",
       "      <th></th>\n",
       "      <th></th>\n",
       "      <th></th>\n",
       "      <th></th>\n",
       "    </tr>\n",
       "  </thead>\n",
       "  <tbody>\n",
       "    <tr>\n",
       "      <th>246</th>\n",
       "      <td>1266</td>\n",
       "      <td>2450</td>\n",
       "      <td>1542</td>\n",
       "      <td>1200</td>\n",
       "      <td>2484</td>\n",
       "      <td>49.0</td>\n",
       "    </tr>\n",
       "    <tr>\n",
       "      <th>247</th>\n",
       "      <td>1238</td>\n",
       "      <td>2476</td>\n",
       "      <td>1520</td>\n",
       "      <td>1158</td>\n",
       "      <td>2513</td>\n",
       "      <td>47.0</td>\n",
       "    </tr>\n",
       "    <tr>\n",
       "      <th>248</th>\n",
       "      <td>1230</td>\n",
       "      <td>2493</td>\n",
       "      <td>1531</td>\n",
       "      <td>1181</td>\n",
       "      <td>2537</td>\n",
       "      <td>47.0</td>\n",
       "    </tr>\n",
       "    <tr>\n",
       "      <th>249</th>\n",
       "      <td>2504</td>\n",
       "      <td>4926</td>\n",
       "      <td>3062</td>\n",
       "      <td>2358</td>\n",
       "      <td>4997</td>\n",
       "      <td>48.0</td>\n",
       "    </tr>\n",
       "  </tbody>\n",
       "</table>\n",
       "</div>"
      ],
      "text/plain": [
       "        CartScreenAppear  MainScreenAppear  OffersScreenAppear  \\\n",
       "exp_id                                                           \n",
       "246                 1266              2450                1542   \n",
       "247                 1238              2476                1520   \n",
       "248                 1230              2493                1531   \n",
       "249                 2504              4926                3062   \n",
       "\n",
       "        PaymentScreenSuccessful  Total_users  conversion  \n",
       "exp_id                                                    \n",
       "246                        1200         2484        49.0  \n",
       "247                        1158         2513        47.0  \n",
       "248                        1181         2537        47.0  \n",
       "249                        2358         4997        48.0  "
      ]
     },
     "execution_count": 51,
     "metadata": {},
     "output_type": "execute_result"
    }
   ],
   "source": [
    "users_grouped_action['conversion'] = round(\n",
    "    users_grouped_action['PaymentScreenSuccessful']/users_grouped_action['MainScreenAppear'],2)*100\n",
    "users_grouped_action"
   ]
  },
  {
   "cell_type": "markdown",
   "id": "84d86e0d-09a0-4612-bdde-23a9704afc6f",
   "metadata": {},
   "source": [
    "**Conversion by group:**\n",
    "\n",
    "1. 246 group 49% of users go to the payment page;\n",
    "2. 247 group 47% of users go to the payment page;\n",
    "3. 248 group with changed font 47% of users go to the payment page."
   ]
  },
  {
   "cell_type": "markdown",
   "id": "2196d7b8-2aee-4449-895f-1e9dba39146d",
   "metadata": {},
   "source": [
    "### Test statistical hypotheses with a significance level of .05"
   ]
  },
  {
   "cell_type": "code",
   "execution_count": 71,
   "id": "8b9b4be5-f7e1-42f7-87f2-83b07989bbf4",
   "metadata": {},
   "outputs": [
    {
     "name": "stdout",
     "output_type": "stream",
     "text": [
      "Results for MainScreenAppear and Total Users for groups:\n",
      "p-value:  0.7570597232046099\n",
      "It was not possible to reject the null hypothesis; there is no reason to consider the shares to be different\n",
      "\n",
      "Results for OffersScreenAppear and Total Users for groups:\n",
      "p-value:  0.2480954578522181\n",
      "It was not possible to reject the null hypothesis; there is no reason to consider the shares to be different\n",
      "\n",
      "Results for CartScreenAppear and Total Users for groups:\n",
      "p-value:  0.22883372237997213\n",
      "It was not possible to reject the null hypothesis; there is no reason to consider the shares to be different\n",
      "\n",
      "Results for PaymentScreenSuccessful and Total Users for groups:\n",
      "p-value:  0.11456679313141849\n",
      "It was not possible to reject the null hypothesis; there is no reason to consider the shares to be different\n",
      "\n"
     ]
    }
   ],
   "source": [
    "# Check groups 246 and 247\n",
    "check_hypo(246, 247, 0.05)"
   ]
  },
  {
   "cell_type": "markdown",
   "id": "092e0231-9857-456f-b35c-bc67bcd8f623",
   "metadata": {},
   "source": [
    "> **Н0 the hypothesis of equality of the two samples could not be rejected. There is no reason to consider the shares different.**"
   ]
  },
  {
   "cell_type": "code",
   "execution_count": 72,
   "id": "6001571e-baf3-4eea-b7f7-900463766920",
   "metadata": {},
   "outputs": [
    {
     "name": "stdout",
     "output_type": "stream",
     "text": [
      "Results for MainScreenAppear and Total Users for groups:\n",
      "p-value:  0.2949721933554552\n",
      "It was not possible to reject the null hypothesis; there is no reason to consider the shares to be different\n",
      "\n",
      "Results for OffersScreenAppear and Total Users for groups:\n",
      "p-value:  0.20836205402738917\n",
      "It was not possible to reject the null hypothesis; there is no reason to consider the shares to be different\n",
      "\n",
      "Results for CartScreenAppear and Total Users for groups:\n",
      "p-value:  0.07842923237520116\n",
      "It was not possible to reject the null hypothesis; there is no reason to consider the shares to be different\n",
      "\n",
      "Results for PaymentScreenSuccessful and Total Users for groups:\n",
      "p-value:  0.2122553275697796\n",
      "It was not possible to reject the null hypothesis; there is no reason to consider the shares to be different\n",
      "\n"
     ]
    }
   ],
   "source": [
    "# Check groups 246 and 248\n",
    "check_hypo(246, 248, 0.05)"
   ]
  },
  {
   "cell_type": "markdown",
   "id": "b7d8dd1b-aad0-436c-9d4e-1ecfbfca842a",
   "metadata": {},
   "source": [
    "> **Н0 the hypothesis of equality of the two samples could not be rejected. There is no reason to consider the shares different.**"
   ]
  },
  {
   "cell_type": "code",
   "execution_count": 73,
   "id": "61f7d8b6-61d8-4733-ade4-36b1c73caaee",
   "metadata": {},
   "outputs": [
    {
     "name": "stdout",
     "output_type": "stream",
     "text": [
      "Results for MainScreenAppear and Total Users for groups:\n",
      "p-value:  0.4587053616621515\n",
      "It was not possible to reject the null hypothesis; there is no reason to consider the shares to be different\n",
      "\n",
      "Results for OffersScreenAppear and Total Users for groups:\n",
      "p-value:  0.9197817830592261\n",
      "It was not possible to reject the null hypothesis; there is no reason to consider the shares to be different\n",
      "\n",
      "Results for CartScreenAppear and Total Users for groups:\n",
      "p-value:  0.5786197879539783\n",
      "It was not possible to reject the null hypothesis; there is no reason to consider the shares to be different\n",
      "\n",
      "Results for PaymentScreenSuccessful and Total Users for groups:\n",
      "p-value:  0.7373415053803964\n",
      "It was not possible to reject the null hypothesis; there is no reason to consider the shares to be different\n",
      "\n"
     ]
    }
   ],
   "source": [
    "# Check groups 247 and 248\n",
    "check_hypo(247, 248, 0.05)"
   ]
  },
  {
   "cell_type": "markdown",
   "id": "f3e9326d-8681-4d98-97b0-1f3efb0d3350",
   "metadata": {},
   "source": [
    "> **Н0 the hypothesis of equality of the two samples could not be rejected. There is no reason to consider the shares different.**"
   ]
  },
  {
   "cell_type": "code",
   "execution_count": 74,
   "id": "2fc49971-5832-489b-88e3-d9c58c7a3b39",
   "metadata": {},
   "outputs": [
    {
     "name": "stdout",
     "output_type": "stream",
     "text": [
      "Results for MainScreenAppear and Total Users for groups:\n",
      "p-value:  0.29424526837179577\n",
      "It was not possible to reject the null hypothesis; there is no reason to consider the shares to be different\n",
      "\n",
      "Results for OffersScreenAppear and Total Users for groups:\n",
      "p-value:  0.43425549655188256\n",
      "It was not possible to reject the null hypothesis; there is no reason to consider the shares to be different\n",
      "\n",
      "Results for CartScreenAppear and Total Users for groups:\n",
      "p-value:  0.18175875284404386\n",
      "It was not possible to reject the null hypothesis; there is no reason to consider the shares to be different\n",
      "\n",
      "Results for PaymentScreenSuccessful and Total Users for groups:\n",
      "p-value:  0.6004294282308704\n",
      "It was not possible to reject the null hypothesis; there is no reason to consider the shares to be different\n",
      "\n"
     ]
    }
   ],
   "source": [
    "# Check groups 249 and 248\n",
    "check_hypo(249, 248, 0.05)"
   ]
  },
  {
   "cell_type": "markdown",
   "id": "8b426683-0890-4fbc-9417-ce9c5d808ba2",
   "metadata": {},
   "source": [
    "> **Н0 the hypothesis of equality of the two samples could not be rejected. There is no reason to consider the shares different.**"
   ]
  },
  {
   "cell_type": "markdown",
   "id": "73b126d8-5671-48f6-a4ce-7a2b2676b45e",
   "metadata": {},
   "source": [
    "## General conclusion about the project"
   ]
  },
  {
   "cell_type": "markdown",
   "id": "7d4e0ea1-ec01-45df-b719-bade913243a6",
   "metadata": {},
   "source": [
    "In this project it was necessary to analyze three experimental groups. Two with a decent font and one with a changed one.\n",
    "\n",
    "First, the dataframe was studied and data preprocessing was carried out. Duplicates were found (0.17%) and work was done to find gaps.\n",
    "\n",
    "The data was also checked and studied.\n",
    "There were a total of 5 events in the dataframe. Total number of events: 244126.\n",
    "The total number of unique users is 7551.\n",
    "The average number of events per user is 32.33. But due to the fact that anomalous values are present, you can notice that the average number of events per user: 0 - 30.\n",
    "\n",
    "The minimum date has been determined: 2019-07-25 and the maximum date: 2019-08-07. After studying the data, it is clear that before 2019-08-01 practically no events occurred.\n",
    "They found that the data was complete from 2019-08-01 and discarded other dates.\n",
    "\n",
    "When filtering data, the percentage of discarded data is 1.16%. The percentage of unique users is 0.2% of the total.\n",
    "\n",
    "We determined the sequence of events based on the frequency of occurrences by users:\n",
    "1. Main Screen Appear\n",
    "2. Offers Screen Appear\n",
    "3. Cart Screen Appear\n",
    "4. Payment Screen Appear\n",
    "5. Tutorial\n",
    "\n",
    "A certain funnel of events has developed. Tutorial is an optional step and is not part of the chain.\n",
    "\n",
    "We determined that most users are lost from the MainScreenAppear step to the OffersScreenAppear step, only 61.91% move on to the next step.\n",
    "\n",
    "81.30% of users switch from the OffersScreenAppear step to CartScreenAppear.\n",
    "From CartScreenAppear to PaymentScreenSuccessful 94.78%. Which shows good conversion at this step.\n",
    "\n",
    "Share of users moving from the first event to payment: 47.7%"
   ]
  },
  {
   "cell_type": "markdown",
   "id": "c42841ac-041a-453c-8fb0-caa0171a3d30",
   "metadata": {},
   "source": [
    "Testing for statistical significance between groups was performed.\n",
    "\n",
    "There were 8 tests in total, 4 with a significance level of 0.1 and 4 with a significance level of 0.05. Due to multiple hypothesis testing, alpha was adjusted using the Benferroni correction.\n",
    "All tests showed that there is no reason to consider the shares different.\n",
    "\n",
    "When calculating the conversion of the transition from the main page to the payment page, the following was obtained:\n",
    "1. 246 group 49% of users go to the payment page;\n",
    "2. 247 group 47% of users go to the payment page;\n",
    "3. 248 group with changed font 47% of users go to the payment page.\n",
    "\n",
    "**It can be concluded that the experimental groups do not differ.**"
   ]
  }
 ],
 "metadata": {
  "ExecuteTimeLog": [
   {
    "duration": 1220,
    "start_time": "2023-09-08T10:05:11.592Z"
   },
   {
    "duration": 146,
    "start_time": "2023-09-08T10:05:12.814Z"
   },
   {
    "duration": 0,
    "start_time": "2023-09-08T10:05:12.963Z"
   },
   {
    "duration": 0,
    "start_time": "2023-09-08T10:05:12.964Z"
   },
   {
    "duration": 0,
    "start_time": "2023-09-08T10:05:12.965Z"
   },
   {
    "duration": 0,
    "start_time": "2023-09-08T10:05:12.966Z"
   },
   {
    "duration": 0,
    "start_time": "2023-09-08T10:05:12.967Z"
   },
   {
    "duration": 0,
    "start_time": "2023-09-08T10:05:12.968Z"
   },
   {
    "duration": 0,
    "start_time": "2023-09-08T10:05:12.968Z"
   },
   {
    "duration": 0,
    "start_time": "2023-09-08T10:05:12.969Z"
   },
   {
    "duration": 0,
    "start_time": "2023-09-08T10:05:12.970Z"
   },
   {
    "duration": 0,
    "start_time": "2023-09-08T10:05:12.971Z"
   },
   {
    "duration": 0,
    "start_time": "2023-09-08T10:05:12.972Z"
   },
   {
    "duration": 0,
    "start_time": "2023-09-08T10:05:12.973Z"
   },
   {
    "duration": 0,
    "start_time": "2023-09-08T10:05:12.974Z"
   },
   {
    "duration": 0,
    "start_time": "2023-09-08T10:05:12.975Z"
   },
   {
    "duration": 0,
    "start_time": "2023-09-08T10:05:12.976Z"
   },
   {
    "duration": 0,
    "start_time": "2023-09-08T10:05:12.977Z"
   },
   {
    "duration": 0,
    "start_time": "2023-09-08T10:05:12.978Z"
   },
   {
    "duration": 0,
    "start_time": "2023-09-08T10:05:12.979Z"
   },
   {
    "duration": 0,
    "start_time": "2023-09-08T10:05:12.980Z"
   },
   {
    "duration": 0,
    "start_time": "2023-09-08T10:05:12.981Z"
   },
   {
    "duration": 0,
    "start_time": "2023-09-08T10:05:12.982Z"
   },
   {
    "duration": 0,
    "start_time": "2023-09-08T10:05:12.983Z"
   },
   {
    "duration": 0,
    "start_time": "2023-09-08T10:05:12.983Z"
   },
   {
    "duration": 0,
    "start_time": "2023-09-08T10:05:12.984Z"
   },
   {
    "duration": 0,
    "start_time": "2023-09-08T10:05:12.985Z"
   },
   {
    "duration": 0,
    "start_time": "2023-09-08T10:05:12.986Z"
   },
   {
    "duration": 0,
    "start_time": "2023-09-08T10:05:12.987Z"
   },
   {
    "duration": 0,
    "start_time": "2023-09-08T10:05:12.988Z"
   },
   {
    "duration": 0,
    "start_time": "2023-09-08T10:05:12.989Z"
   },
   {
    "duration": 0,
    "start_time": "2023-09-08T10:05:12.990Z"
   },
   {
    "duration": 0,
    "start_time": "2023-09-08T10:05:12.991Z"
   },
   {
    "duration": 0,
    "start_time": "2023-09-08T10:05:13.034Z"
   },
   {
    "duration": 0,
    "start_time": "2023-09-08T10:05:13.035Z"
   },
   {
    "duration": 0,
    "start_time": "2023-09-08T10:05:13.036Z"
   },
   {
    "duration": 0,
    "start_time": "2023-09-08T10:05:13.037Z"
   },
   {
    "duration": 0,
    "start_time": "2023-09-08T10:05:13.038Z"
   },
   {
    "duration": 0,
    "start_time": "2023-09-08T10:05:13.039Z"
   },
   {
    "duration": 0,
    "start_time": "2023-09-08T10:05:13.040Z"
   },
   {
    "duration": 0,
    "start_time": "2023-09-08T10:05:13.041Z"
   },
   {
    "duration": 0,
    "start_time": "2023-09-08T10:05:13.042Z"
   },
   {
    "duration": 0,
    "start_time": "2023-09-08T10:05:13.043Z"
   },
   {
    "duration": 0,
    "start_time": "2023-09-08T10:05:13.044Z"
   },
   {
    "duration": 0,
    "start_time": "2023-09-08T10:05:13.045Z"
   },
   {
    "duration": 0,
    "start_time": "2023-09-08T10:05:13.046Z"
   },
   {
    "duration": 0,
    "start_time": "2023-09-08T10:05:13.047Z"
   },
   {
    "duration": 1258,
    "start_time": "2023-09-08T12:30:03.834Z"
   },
   {
    "duration": 254,
    "start_time": "2023-09-08T12:30:05.094Z"
   },
   {
    "duration": 3,
    "start_time": "2023-09-08T12:30:05.350Z"
   },
   {
    "duration": 45,
    "start_time": "2023-09-08T12:30:05.355Z"
   },
   {
    "duration": 27,
    "start_time": "2023-09-08T12:30:05.403Z"
   },
   {
    "duration": 21,
    "start_time": "2023-09-08T12:30:05.433Z"
   },
   {
    "duration": 94,
    "start_time": "2023-09-08T12:30:05.457Z"
   },
   {
    "duration": 90,
    "start_time": "2023-09-08T12:30:05.553Z"
   },
   {
    "duration": 136,
    "start_time": "2023-09-08T12:30:05.645Z"
   },
   {
    "duration": 35,
    "start_time": "2023-09-08T12:30:05.783Z"
   },
   {
    "duration": 27,
    "start_time": "2023-09-08T12:30:05.819Z"
   },
   {
    "duration": 8,
    "start_time": "2023-09-08T12:30:05.848Z"
   },
   {
    "duration": 237,
    "start_time": "2023-09-08T12:30:05.858Z"
   },
   {
    "duration": 180,
    "start_time": "2023-09-08T12:30:06.097Z"
   },
   {
    "duration": 47,
    "start_time": "2023-09-08T12:30:06.279Z"
   },
   {
    "duration": 675,
    "start_time": "2023-09-08T12:30:06.328Z"
   },
   {
    "duration": 337,
    "start_time": "2023-09-08T12:30:07.005Z"
   },
   {
    "duration": 24,
    "start_time": "2023-09-08T12:30:07.344Z"
   },
   {
    "duration": 40,
    "start_time": "2023-09-08T12:30:07.369Z"
   },
   {
    "duration": 11,
    "start_time": "2023-09-08T12:30:07.411Z"
   },
   {
    "duration": 35,
    "start_time": "2023-09-08T12:30:07.424Z"
   },
   {
    "duration": 63,
    "start_time": "2023-09-08T12:30:07.461Z"
   },
   {
    "duration": 7,
    "start_time": "2023-09-08T12:30:07.526Z"
   },
   {
    "duration": 51,
    "start_time": "2023-09-08T12:30:07.535Z"
   },
   {
    "duration": 444,
    "start_time": "2023-09-08T12:30:07.588Z"
   },
   {
    "duration": 29,
    "start_time": "2023-09-08T12:30:08.034Z"
   },
   {
    "duration": 113,
    "start_time": "2023-09-08T12:30:08.065Z"
   },
   {
    "duration": 249,
    "start_time": "2023-09-08T12:30:08.182Z"
   },
   {
    "duration": 4,
    "start_time": "2023-09-08T12:30:08.433Z"
   },
   {
    "duration": 16,
    "start_time": "2023-09-08T12:30:08.438Z"
   },
   {
    "duration": 7,
    "start_time": "2023-09-08T12:30:08.456Z"
   },
   {
    "duration": 7,
    "start_time": "2023-09-08T12:30:08.464Z"
   },
   {
    "duration": 66,
    "start_time": "2023-09-08T12:30:08.473Z"
   },
   {
    "duration": 49,
    "start_time": "2023-09-08T12:30:08.541Z"
   },
   {
    "duration": 107,
    "start_time": "2023-09-08T12:30:08.592Z"
   },
   {
    "duration": 6,
    "start_time": "2023-09-08T12:30:08.708Z"
   },
   {
    "duration": 9,
    "start_time": "2023-09-08T12:30:08.715Z"
   },
   {
    "duration": 16,
    "start_time": "2023-09-08T12:30:08.726Z"
   },
   {
    "duration": 11,
    "start_time": "2023-09-08T12:30:08.744Z"
   },
   {
    "duration": 11,
    "start_time": "2023-09-08T12:30:08.757Z"
   },
   {
    "duration": 44,
    "start_time": "2023-09-08T12:30:08.770Z"
   },
   {
    "duration": 15,
    "start_time": "2023-09-08T12:30:08.816Z"
   },
   {
    "duration": 14,
    "start_time": "2023-09-08T12:30:08.833Z"
   },
   {
    "duration": 25,
    "start_time": "2023-09-08T12:30:08.849Z"
   },
   {
    "duration": 34,
    "start_time": "2023-09-08T12:30:08.875Z"
   },
   {
    "duration": 15,
    "start_time": "2023-09-08T12:30:08.911Z"
   },
   {
    "duration": 10,
    "start_time": "2023-09-08T12:30:08.928Z"
   },
   {
    "duration": 1344,
    "start_time": "2023-09-11T10:30:38.141Z"
   },
   {
    "duration": 375,
    "start_time": "2023-09-11T10:30:39.490Z"
   },
   {
    "duration": 3,
    "start_time": "2023-09-11T10:30:39.869Z"
   },
   {
    "duration": 49,
    "start_time": "2023-09-11T10:30:39.874Z"
   },
   {
    "duration": 27,
    "start_time": "2023-09-11T10:30:39.926Z"
   },
   {
    "duration": 17,
    "start_time": "2023-09-11T10:30:39.955Z"
   },
   {
    "duration": 109,
    "start_time": "2023-09-11T10:30:39.974Z"
   },
   {
    "duration": 102,
    "start_time": "2023-09-11T10:30:40.085Z"
   },
   {
    "duration": 108,
    "start_time": "2023-09-11T10:30:40.205Z"
   },
   {
    "duration": 29,
    "start_time": "2023-09-11T10:30:40.315Z"
   },
   {
    "duration": 23,
    "start_time": "2023-09-11T10:30:40.346Z"
   },
   {
    "duration": 12,
    "start_time": "2023-09-11T10:30:40.371Z"
   },
   {
    "duration": 246,
    "start_time": "2023-09-11T10:30:40.385Z"
   },
   {
    "duration": 200,
    "start_time": "2023-09-11T10:30:40.633Z"
   },
   {
    "duration": 34,
    "start_time": "2023-09-11T10:30:40.835Z"
   },
   {
    "duration": 706,
    "start_time": "2023-09-11T10:30:40.871Z"
   },
   {
    "duration": 387,
    "start_time": "2023-09-11T10:30:41.579Z"
   },
   {
    "duration": 42,
    "start_time": "2023-09-11T10:30:41.968Z"
   },
   {
    "duration": 30,
    "start_time": "2023-09-11T10:30:42.012Z"
   },
   {
    "duration": 5,
    "start_time": "2023-09-11T10:30:42.044Z"
   },
   {
    "duration": 43,
    "start_time": "2023-09-11T10:30:42.051Z"
   },
   {
    "duration": 4,
    "start_time": "2023-09-11T10:30:42.097Z"
   },
   {
    "duration": 55,
    "start_time": "2023-09-11T10:30:42.103Z"
   },
   {
    "duration": 35,
    "start_time": "2023-09-11T10:30:42.160Z"
   },
   {
    "duration": 16,
    "start_time": "2023-09-11T10:30:42.196Z"
   },
   {
    "duration": 68,
    "start_time": "2023-09-11T10:30:42.216Z"
   },
   {
    "duration": 457,
    "start_time": "2023-09-11T10:30:42.288Z"
   },
   {
    "duration": 30,
    "start_time": "2023-09-11T10:30:42.746Z"
   },
   {
    "duration": 109,
    "start_time": "2023-09-11T10:30:42.777Z"
   },
   {
    "duration": 258,
    "start_time": "2023-09-11T10:30:42.887Z"
   },
   {
    "duration": 3,
    "start_time": "2023-09-11T10:30:43.147Z"
   },
   {
    "duration": 27,
    "start_time": "2023-09-11T10:30:43.152Z"
   },
   {
    "duration": 13,
    "start_time": "2023-09-11T10:30:43.181Z"
   },
   {
    "duration": 23,
    "start_time": "2023-09-11T10:30:43.195Z"
   },
   {
    "duration": 27,
    "start_time": "2023-09-11T10:30:43.220Z"
   },
   {
    "duration": 436,
    "start_time": "2023-09-11T10:30:43.249Z"
   },
   {
    "duration": 128,
    "start_time": "2023-09-11T10:30:43.687Z"
   },
   {
    "duration": 107,
    "start_time": "2023-09-11T10:30:43.817Z"
   },
   {
    "duration": 110,
    "start_time": "2023-09-11T10:30:43.926Z"
   },
   {
    "duration": 5,
    "start_time": "2023-09-11T10:30:44.037Z"
   },
   {
    "duration": 32,
    "start_time": "2023-09-11T10:30:44.044Z"
   },
   {
    "duration": 38,
    "start_time": "2023-09-11T10:30:44.078Z"
   },
   {
    "duration": 115,
    "start_time": "2023-09-11T10:30:44.119Z"
   },
   {
    "duration": 5,
    "start_time": "2023-09-11T10:30:44.236Z"
   },
   {
    "duration": 35,
    "start_time": "2023-09-11T10:30:44.242Z"
   },
   {
    "duration": 29,
    "start_time": "2023-09-11T10:30:44.279Z"
   },
   {
    "duration": 27,
    "start_time": "2023-09-11T10:30:44.310Z"
   },
   {
    "duration": 11,
    "start_time": "2023-09-11T10:30:44.338Z"
   },
   {
    "duration": 23,
    "start_time": "2023-09-11T10:30:44.351Z"
   },
   {
    "duration": 20,
    "start_time": "2023-09-11T10:30:44.376Z"
   },
   {
    "duration": 21,
    "start_time": "2023-09-11T10:30:44.400Z"
   },
   {
    "duration": 25,
    "start_time": "2023-09-11T10:30:44.425Z"
   },
   {
    "duration": 12,
    "start_time": "2023-09-11T10:30:44.453Z"
   },
   {
    "duration": 25,
    "start_time": "2023-09-11T10:30:44.467Z"
   },
   {
    "duration": 24,
    "start_time": "2023-09-11T10:44:42.199Z"
   }
  ],
  "kernelspec": {
   "display_name": "Python 3 (ipykernel)",
   "language": "python",
   "name": "python3"
  },
  "language_info": {
   "codemirror_mode": {
    "name": "ipython",
    "version": 3
   },
   "file_extension": ".py",
   "mimetype": "text/x-python",
   "name": "python",
   "nbconvert_exporter": "python",
   "pygments_lexer": "ipython3",
   "version": "3.9.13"
  },
  "toc": {
   "base_numbering": 1,
   "nav_menu": {},
   "number_sections": true,
   "sideBar": true,
   "skip_h1_title": true,
   "title_cell": "Table of Contents",
   "title_sidebar": "Contents",
   "toc_cell": false,
   "toc_position": {},
   "toc_section_display": true,
   "toc_window_display": false
  }
 },
 "nbformat": 4,
 "nbformat_minor": 5
}
